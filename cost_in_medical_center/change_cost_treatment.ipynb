{
 "cells": [
  {
   "cell_type": "markdown",
   "id": "702618cb",
   "metadata": {
    "ExecuteTime": {
     "end_time": "2023-11-10T16:39:26.318857Z",
     "start_time": "2023-11-10T16:39:26.307828Z"
    }
   },
   "source": [
    "# **Проект: Анализ изменения цены лечения в медецинской клинике**\n",
    "\n",
    "**Описание проекта:** \\\n",
    "Провести анализ изменения цены в медецинской клинике \\\n",
    "в 2022 году относительно 2021 года\n",
    "\n",
    "**Цель проекта:** \\\n",
    "определить ключевые драйверы изменения цены лечения.\n",
    "\n",
    "**Задачи:**\n",
    "- сформировать 2-3 гипотезы\n",
    "- провести исследовательский анализ данных\n",
    "- сделать выводы по гипотезам\n",
    "- написать общий вывод"
   ]
  },
  {
   "cell_type": "code",
   "execution_count": null,
   "id": "5e337220",
   "metadata": {},
   "outputs": [],
   "source": []
  }
 ],
 "metadata": {
  "hide_input": false,
  "kernelspec": {
   "display_name": "Python 3 (ipykernel)",
   "language": "python",
   "name": "python3"
  },
  "language_info": {
   "codemirror_mode": {
    "name": "ipython",
    "version": 3
   },
   "file_extension": ".py",
   "mimetype": "text/x-python",
   "name": "python",
   "nbconvert_exporter": "python",
   "pygments_lexer": "ipython3",
   "version": "3.11.4"
  },
  "toc": {
   "base_numbering": 1,
   "nav_menu": {},
   "number_sections": true,
   "sideBar": true,
   "skip_h1_title": false,
   "title_cell": "Table of Contents",
   "title_sidebar": "Contents",
   "toc_cell": false,
   "toc_position": {},
   "toc_section_display": true,
   "toc_window_display": false
  },
  "varInspector": {
   "cols": {
    "lenName": 16,
    "lenType": 16,
    "lenVar": 40
   },
   "kernels_config": {
    "python": {
     "delete_cmd_postfix": "",
     "delete_cmd_prefix": "del ",
     "library": "var_list.py",
     "varRefreshCmd": "print(var_dic_list())"
    },
    "r": {
     "delete_cmd_postfix": ") ",
     "delete_cmd_prefix": "rm(",
     "library": "var_list.r",
     "varRefreshCmd": "cat(var_dic_list()) "
    }
   },
   "types_to_exclude": [
    "module",
    "function",
    "builtin_function_or_method",
    "instance",
    "_Feature"
   ],
   "window_display": false
  }
 },
 "nbformat": 4,
 "nbformat_minor": 5
}
