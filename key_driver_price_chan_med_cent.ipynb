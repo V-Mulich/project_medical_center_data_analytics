{
  "nbformat": 4,
  "nbformat_minor": 0,
  "metadata": {
    "colab": {
      "provenance": [],
      "authorship_tag": "ABX9TyO8lA35tgrAkU+6KWS9w9Ka",
      "include_colab_link": true
    },
    "kernelspec": {
      "name": "python3",
      "display_name": "Python 3"
    },
    "language_info": {
      "name": "python"
    }
  },
  "cells": [
    {
      "cell_type": "markdown",
      "metadata": {
        "id": "view-in-github",
        "colab_type": "text"
      },
      "source": [
        "<a href=\"https://colab.research.google.com/github/V-Mulich/projects/blob/main/key_driver_price_chan_med_cent.ipynb\" target=\"_parent\"><img src=\"https://colab.research.google.com/assets/colab-badge.svg\" alt=\"Open In Colab\"/></a>"
      ]
    },
    {
      "cell_type": "markdown",
      "source": [
        "# Анализ среднего чека в медицинском центре за 2021-2022 года\n",
        "\n",
        "**Описание проекта:** \\\n",
        "Провести анализ изменения цены в медецинской клинике \\\n",
        "в 2022 году относительно 2021 года\n",
        "\n",
        "**Цель проекта:** \\\n",
        "определить ключевые драйверы изменения цены лечения. \\\n",
        "\n",
        "**Задачи: **\n",
        "\n"
      ],
      "metadata": {
        "id": "pKET4PokBUDX"
      }
    },
    {
      "cell_type": "markdown",
      "source": [],
      "metadata": {
        "id": "fwOlH-G6Bwlp"
      }
    },
    {
      "cell_type": "code",
      "execution_count": null,
      "metadata": {
        "id": "JPc_PVfaA5gA"
      },
      "outputs": [],
      "source": []
    }
  ]
}