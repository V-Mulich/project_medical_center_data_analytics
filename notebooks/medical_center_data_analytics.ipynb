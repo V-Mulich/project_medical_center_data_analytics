{
 "cells": [
  {
   "cell_type": "markdown",
   "metadata": {
    "id": "pKET4PokBUDX"
   },
   "source": [
    "# **Проект: Анализ изменения цены лечения в медецинской клинике**\n",
    "\n",
    "**Описание проекта:** \\\n",
    "Провести анализ изменения цены в медецинской клинике \\\n",
    "в 2022 году относительно 2021 года\n",
    "\n",
    "**Цель проекта:** \\\n",
    "определить ключевые драйверы изменения цены лечения.\n",
    "\n",
    "**Задачи:**\n",
    "сформировать 2-3 гипотезы\n",
    "провести исследовательский анализ данных\n",
    "сделать выводы по гипотезам\n",
    "написать общий вывод\n",
    "\n",
    "\n"
   ]
  },
  {
   "cell_type": "code",
   "execution_count": null,
   "metadata": {
    "ExecuteTime": {
     "end_time": "2023-11-11T12:24:21.274650Z",
     "start_time": "2023-11-11T12:24:18.964574Z"
    },
    "id": "C6aAwIfv_unm"
   },
   "outputs": [],
   "source": [
    "import pandas as pd\n",
    "import numpy as np\n",
    "import seaborn as sns\n",
    "import matplotlib.pyplot as plt\n",
    "import plotly.express as px"
   ]
  },
  {
   "cell_type": "markdown",
   "metadata": {
    "id": "XCWFEUf_7SZa"
   },
   "source": [
    "# **Получаем данные и знакомимся с ними**"
   ]
  },
  {
   "cell_type": "markdown",
   "metadata": {},
   "source": [
    "Исходные данные лежат в папке `data`; название файла: `data_test_task_2022.xlsx` \\\n",
    "Получить данные на GitHub: [исходные данные](https://github.com/V-Mulich/project_medical_center_data_analytics/tree/main/data)"
   ]
  },
  {
   "cell_type": "code",
   "execution_count": null,
   "metadata": {
    "ExecuteTime": {
     "end_time": "2023-11-11T12:24:29.265871Z",
     "start_time": "2023-11-11T12:24:21.276655Z"
    },
    "colab": {
     "base_uri": "https://localhost:8080/"
    },
    "id": "RB1t6oc_xng9",
    "outputId": "027ff983-db5b-4721-81aa-a3c183ada799"
   },
   "outputs": [],
   "source": [
    "# Укажите путь к файлу Excel.\n",
    "# df = pd.read_excel('укажите путь привычным вам способом') Например, вы загружаете файл с данными на компьютер,\n",
    "# а потом работаете с ними через Jupyter Notebook или обычно открываете файлы через Сolab.\n",
    "# Короче, найдите способ открыть файл =) Это просто! Ниже - лишь один из множества способов.\n",
    "file_paths = [\n",
    "    '/datasets/data_test_task_2022.xlsx',\n",
    "    '../datatest/data_test_task_2022.xlsx',\n",
    "    'C:\\\\Users\\Мулич\\datatest\\data_test_task_2022.xlsx',\n",
    "    '/content/drive/MyDrive/data/data_test_task_2022.xlsx'\n",
    "]\n",
    "\n",
    "# Считываем данные из файла Excel\n",
    "for file_path in file_paths:\n",
    "    try:\n",
    "        df = pd.read_excel(file_path)\n",
    "        print(f\"Данные успешно получены из файла по пути: {file_path}\")\n",
    "        break  # Если считывание прошло успешно, выходим из цикла\n",
    "    except:\n",
    "        print(\" \")\n",
    "else:\n",
    "    # Этот блок выполнится, если цикл завершится без использования break\n",
    "    print(\"Не удалось считать данные из всех указанных путей.\")"
   ]
  },
  {
   "cell_type": "code",
   "execution_count": null,
   "metadata": {
    "ExecuteTime": {
     "end_time": "2023-11-11T12:24:29.299865Z",
     "start_time": "2023-11-11T12:24:29.267893Z"
    },
    "colab": {
     "base_uri": "https://localhost:8080/",
     "height": 424
    },
    "id": "cODFY8-PxuS-",
    "outputId": "2129aa8c-f4e5-4dce-bd33-dbc076d3488e"
   },
   "outputs": [],
   "source": [
    "# Выводми содержание df\n",
    "df"
   ]
  },
  {
   "cell_type": "code",
   "execution_count": null,
   "metadata": {
    "ExecuteTime": {
     "end_time": "2023-11-11T12:24:29.335607Z",
     "start_time": "2023-11-11T12:24:29.301866Z"
    },
    "colab": {
     "base_uri": "https://localhost:8080/"
    },
    "id": "9wf9STe5_O9a",
    "outputId": "d6b256f8-7bc2-4838-c1eb-610d6cf973b3"
   },
   "outputs": [],
   "source": [
    "# Получаем общую информацию о датасете\n",
    "df.info()"
   ]
  },
  {
   "cell_type": "markdown",
   "metadata": {
    "id": "jdwyCPok5bf0"
   },
   "source": [
    "В данных 8 столбцов и 85365 строк. \\\n",
    "Каждая строка соответствует оказанной услуге. \\\n",
    "Таких услуг у одного клиента может быть несколько.\n",
    "\n",
    "Названия столбцов записаны в \"змеином_регистре\". \\\n",
    "В столбце `service_date` необходимо изменить тип данных с \\\n",
    "строкового (`object`) на временной (`datetime`). \\\n",
    "В столбце `sex_id` есть пропуски."
   ]
  },
  {
   "cell_type": "markdown",
   "metadata": {
    "id": "Jlx0i3rCCjsS"
   },
   "source": [
    "## **Изучение каждого столбца отдельно**"
   ]
  },
  {
   "cell_type": "markdown",
   "metadata": {
    "id": "9lv6gMEVGP_Z"
   },
   "source": [
    "### Столбец `record_id` (1/8) - *уникальный идентификатор строки данных*"
   ]
  },
  {
   "cell_type": "code",
   "execution_count": null,
   "metadata": {
    "ExecuteTime": {
     "end_time": "2023-11-11T12:24:29.343465Z",
     "start_time": "2023-11-11T12:24:29.336608Z"
    },
    "colab": {
     "base_uri": "https://localhost:8080/"
    },
    "id": "Rt7kfaxOlRS0",
    "outputId": "22ef5819-8e6f-4ac7-b28f-b1c7f0535627"
   },
   "outputs": [],
   "source": [
    "# Получаем значения по столбцу, информацию о типе данных\n",
    "df['record_id'].head()"
   ]
  },
  {
   "cell_type": "markdown",
   "metadata": {
    "id": "D4O6dCWvFNWs"
   },
   "source": [
    "Поскольку значения в столбце `record_id` не являются числами, над которыми можно выполнять математические операции, а представляют собой уникальные значения для каждой услуги, их тип данных можно изменить на категориальный.\n",
    "\n",
    "**Все исправления по этому и следующим столбцам будут внесены в разделе \"Предобработка данных\" с использованием ссылок для перемещения от ячейки к ячейке. Пример:**\n",
    "\n",
    "[(см. исправления)](#scrollTo=dcsBgBciDRss&uniqifier=1)"
   ]
  },
  {
   "cell_type": "markdown",
   "metadata": {
    "id": "hA_Xe5wOjrKK"
   },
   "source": [
    "### Столбец `service_date` (2/8) - *дата оказания медицинской услуги*"
   ]
  },
  {
   "cell_type": "code",
   "execution_count": null,
   "metadata": {
    "ExecuteTime": {
     "end_time": "2023-11-11T12:24:29.356169Z",
     "start_time": "2023-11-11T12:24:29.345465Z"
    },
    "colab": {
     "base_uri": "https://localhost:8080/"
    },
    "id": "exvlPSkqkb7M",
    "outputId": "2451eb10-fd6b-45bb-b0fd-715b0f8704dd"
   },
   "outputs": [],
   "source": [
    "# Получаем значения по столбцу, информацию о типе данных\n",
    "df['service_date'].head()"
   ]
  },
  {
   "cell_type": "markdown",
   "metadata": {
    "id": "ITSxkLQ5QCe0"
   },
   "source": [
    "Необходимо изменить тип данных с `object` на `datetime`.\n",
    "[(см. исправления)](#scrollTo=EMMknHc9tENL&uniqifier=1)"
   ]
  },
  {
   "cell_type": "markdown",
   "metadata": {
    "id": "w0ffql90Q5TN"
   },
   "source": [
    "### Столбец `service_name` (3/8) - *наименование медицинской услуги*"
   ]
  },
  {
   "cell_type": "code",
   "execution_count": null,
   "metadata": {
    "ExecuteTime": {
     "end_time": "2023-11-11T12:24:29.367430Z",
     "start_time": "2023-11-11T12:24:29.359165Z"
    },
    "colab": {
     "base_uri": "https://localhost:8080/"
    },
    "id": "c0SVlVwbT-W2",
    "outputId": "4babcc3f-baf1-4150-8091-f91488066778"
   },
   "outputs": [],
   "source": [
    "# Получаем значения по столбцу, информацию о типе данных\n",
    "df['service_name']"
   ]
  },
  {
   "cell_type": "markdown",
   "metadata": {
    "id": "9u30q38_WIBq"
   },
   "source": [
    "С типом данных в столбце \"порядок\" - он строковый. Стоит посмотреть наличие *неявных дубликатов*, но процедура трудоемкая, поэтому в рамках данного исследования проводиться не будет."
   ]
  },
  {
   "cell_type": "markdown",
   "metadata": {
    "id": "LoUpTMMwGxpx"
   },
   "source": [
    "### Столбец `service_amount` (4/8) - *сумма выплат (стоимость оказанных услуг в рублях)*"
   ]
  },
  {
   "cell_type": "code",
   "execution_count": null,
   "metadata": {
    "ExecuteTime": {
     "end_time": "2023-11-11T12:24:29.377851Z",
     "start_time": "2023-11-11T12:24:29.368430Z"
    },
    "colab": {
     "base_uri": "https://localhost:8080/"
    },
    "id": "L0Zbuey9G23W",
    "outputId": "41b5b804-16b2-4960-8afe-1ae259d36060"
   },
   "outputs": [],
   "source": [
    "# Получаем значения по столбцу, информацию о типе данных\n",
    "df['service_amount']"
   ]
  },
  {
   "cell_type": "code",
   "execution_count": null,
   "metadata": {
    "ExecuteTime": {
     "end_time": "2023-11-11T12:24:29.392857Z",
     "start_time": "2023-11-11T12:24:29.378852Z"
    },
    "colab": {
     "base_uri": "https://localhost:8080/"
    },
    "id": "WMHhEM6bHKxU",
    "outputId": "f5e159ab-e2a8-43cf-9110-fec5ab43ba27"
   },
   "outputs": [],
   "source": [
    "# получаем описательную статистику столбца\n",
    "df['service_amount'].describe()"
   ]
  },
  {
   "cell_type": "markdown",
   "metadata": {
    "id": "YLWdxLrMHhrx"
   },
   "source": [
    "Самая дорогая услуга стоит `26999` руб. Посмотрите, какая это услуга."
   ]
  },
  {
   "cell_type": "code",
   "execution_count": null,
   "metadata": {
    "ExecuteTime": {
     "end_time": "2023-11-11T12:24:29.407064Z",
     "start_time": "2023-11-11T12:24:29.396850Z"
    },
    "colab": {
     "base_uri": "https://localhost:8080/",
     "height": 81
    },
    "id": "14Lz-q6pHezT",
    "outputId": "40c52b06-a080-483e-c175-e995340c37ee"
   },
   "outputs": [],
   "source": [
    "# получаем список услуг с маусимальной стоимостью\n",
    "max_service_amount = df['service_amount'].max()\n",
    "result_df = df[df['service_amount'] == max_service_amount]\n",
    "result_df"
   ]
  },
  {
   "cell_type": "markdown",
   "metadata": {
    "id": "nyZ1e9IjJFDk"
   },
   "source": [
    "Тип данных значений стоимости в столбце соответствующий. Пропусков нет. \\\n",
    "Дальнейшие манипуляции со столбцом буду происходить в разделе \"Исследовательский анализ данных\"."
   ]
  },
  {
   "cell_type": "markdown",
   "metadata": {
    "id": "ijqIIHqkKH85"
   },
   "source": [
    "### Столбец `service_number` (5/8) - *количество услуг*"
   ]
  },
  {
   "cell_type": "code",
   "execution_count": null,
   "metadata": {
    "ExecuteTime": {
     "end_time": "2023-11-11T12:24:29.413534Z",
     "start_time": "2023-11-11T12:24:29.408064Z"
    },
    "colab": {
     "base_uri": "https://localhost:8080/"
    },
    "id": "b8N3xBYlxqKC",
    "outputId": "249770ef-f89f-444d-e0c7-bda271660383"
   },
   "outputs": [],
   "source": [
    "# Получаем значения по столбцу, информацию о типе данных\n",
    "df['service_number']"
   ]
  },
  {
   "cell_type": "code",
   "execution_count": null,
   "metadata": {
    "ExecuteTime": {
     "end_time": "2023-11-11T12:24:29.423744Z",
     "start_time": "2023-11-11T12:24:29.414535Z"
    },
    "colab": {
     "base_uri": "https://localhost:8080/"
    },
    "id": "92BD3TEMxPi9",
    "outputId": "ee241acd-1df7-4513-a077-d85f1ed034a2"
   },
   "outputs": [],
   "source": [
    "# выводим все уникальные значения\n",
    "df['service_number'].unique()"
   ]
  },
  {
   "cell_type": "code",
   "execution_count": null,
   "metadata": {
    "ExecuteTime": {
     "end_time": "2023-11-11T12:24:29.436543Z",
     "start_time": "2023-11-11T12:24:29.424744Z"
    },
    "colab": {
     "base_uri": "https://localhost:8080/"
    },
    "id": "2wwkRN2HzBc-",
    "outputId": "956b2235-16b0-46aa-bb37-3fe312f1e905"
   },
   "outputs": [],
   "source": [
    "# описательная статистика\n",
    "df['service_number'].describe()"
   ]
  },
  {
   "cell_type": "code",
   "execution_count": null,
   "metadata": {
    "ExecuteTime": {
     "end_time": "2023-11-11T12:24:29.449377Z",
     "start_time": "2023-11-11T12:24:29.438542Z"
    },
    "colab": {
     "base_uri": "https://localhost:8080/",
     "height": 206
    },
    "id": "N-LU815IzoCM",
    "outputId": "061cd366-c3ca-4007-b0e4-843a6a0b74cb"
   },
   "outputs": [],
   "source": [
    "# выведем список клиентов с количеством услуг более 10\n",
    "#\n",
    "# Фильтрация строк с услугами более 10\n",
    "filtered_df = df[df['service_number'] > 10]\n",
    "\n",
    "filtered_df.head()"
   ]
  },
  {
   "cell_type": "markdown",
   "metadata": {
    "id": "J0v48eSp4yG7"
   },
   "source": [
    "Пропусков в столбце нет, аномальных значений тоже."
   ]
  },
  {
   "cell_type": "markdown",
   "metadata": {
    "id": "A-WPA2lt_hXB"
   },
   "source": [
    "## Столбец `insured` (6/8) - уникальный идентификатор пациента"
   ]
  },
  {
   "cell_type": "code",
   "execution_count": null,
   "metadata": {
    "ExecuteTime": {
     "end_time": "2023-11-11T12:24:29.457901Z",
     "start_time": "2023-11-11T12:24:29.451375Z"
    },
    "colab": {
     "base_uri": "https://localhost:8080/"
    },
    "id": "5yAGkcve_2mH",
    "outputId": "b64376db-1c71-4992-a59b-afdeaa524165"
   },
   "outputs": [],
   "source": [
    "# Получаем значения по столбцу, информацию о типе данных\n",
    "df['insured'].head()"
   ]
  },
  {
   "cell_type": "markdown",
   "metadata": {
    "id": "59GIb-QKAMfx"
   },
   "source": [
    "Изменим тип данных с `int` на `category` [(см. исправления)](#scrollTo=sRLFrRicAyGZ&uniqifier=1)"
   ]
  },
  {
   "cell_type": "markdown",
   "metadata": {
    "id": "rHxu2uEfFHr-"
   },
   "source": [
    "## Столбец `sex_id` (7/8) - пол пациента"
   ]
  },
  {
   "cell_type": "code",
   "execution_count": null,
   "metadata": {
    "ExecuteTime": {
     "end_time": "2023-11-11T12:24:29.466715Z",
     "start_time": "2023-11-11T12:24:29.459899Z"
    },
    "colab": {
     "base_uri": "https://localhost:8080/"
    },
    "id": "aOZVWQroFTsl",
    "outputId": "48a313c3-1b6a-4f82-94e0-650cc914d520"
   },
   "outputs": [],
   "source": [
    "# Получаем значения по столбцу, информацию о типе данных\n",
    "df['sex_id']"
   ]
  },
  {
   "cell_type": "markdown",
   "metadata": {
    "id": "x8ISogI1FGAV"
   },
   "source": [
    "Выведем несколько строк и посмотрим на услуги, где цифры 2 \\\n",
    "или 1 соответствуют женщинам, а где мужчинам."
   ]
  },
  {
   "cell_type": "code",
   "execution_count": null,
   "metadata": {
    "ExecuteTime": {
     "end_time": "2023-11-11T12:24:29.483556Z",
     "start_time": "2023-11-11T12:24:29.468713Z"
    },
    "colab": {
     "base_uri": "https://localhost:8080/",
     "height": 363
    },
    "id": "bbed3bJwG6TT",
    "outputId": "04444bd3-5d41-402a-a054-7575faf0f332"
   },
   "outputs": [],
   "source": [
    "# получаем строки в разном порядке\n",
    "df.sample(10)"
   ]
  },
  {
   "cell_type": "markdown",
   "metadata": {
    "id": "fHVENr_THZOS"
   },
   "source": [
    "\n",
    "По этой строчке датасета (см. ниже), можно понять, что женщины обозначены цифрой `2`, т. к. гениколог принимает только женщин. =)\n",
    "\n",
    "```                                                     \n",
    "32631466903\t2022-05-17 **Прием гинеколога, повторный** 1380\t1\t873298\t**2.0**\t33\n",
    "```\n",
    "\n"
   ]
  },
  {
   "cell_type": "markdown",
   "metadata": {
    "id": "rVF-S641LL3F"
   },
   "source": [
    "Стоит сменить тип данных с `float` на `category` [(см. исправления)](#scrollTo=dCiIKI4YLlua&uniqifier=1)"
   ]
  },
  {
   "cell_type": "markdown",
   "metadata": {
    "id": "Br65teftMLQM"
   },
   "source": [
    "## Столбец `age_for_service_date` (8/8) - возраст пациента"
   ]
  },
  {
   "cell_type": "code",
   "execution_count": null,
   "metadata": {
    "ExecuteTime": {
     "end_time": "2023-11-11T12:24:29.491616Z",
     "start_time": "2023-11-11T12:24:29.485554Z"
    },
    "colab": {
     "base_uri": "https://localhost:8080/"
    },
    "id": "6LfP8YIqNUVB",
    "outputId": "e031368f-b48c-4de9-e78e-e3d5f880002f"
   },
   "outputs": [],
   "source": [
    "# Получаем значения по столбцу, информацию о типе данных\n",
    "df['age_for_service_date']"
   ]
  },
  {
   "cell_type": "code",
   "execution_count": null,
   "metadata": {
    "ExecuteTime": {
     "end_time": "2023-11-11T12:24:29.502311Z",
     "start_time": "2023-11-11T12:24:29.493613Z"
    },
    "colab": {
     "base_uri": "https://localhost:8080/"
    },
    "id": "gfIBIK06N9Y1",
    "outputId": "56c04a6f-484d-4407-8a62-1682861d4504"
   },
   "outputs": [],
   "source": [
    "df['age_for_service_date'].describe()"
   ]
  },
  {
   "cell_type": "markdown",
   "metadata": {
    "id": "GtRYuTCBzYcM"
   },
   "source": [
    "Из описательной статистики видно, что минимальный возраст равен нулю. \\\n",
    "Посмотрим, сколько таких строк в датафрейме."
   ]
  },
  {
   "cell_type": "code",
   "execution_count": null,
   "metadata": {
    "ExecuteTime": {
     "end_time": "2023-11-11T12:24:29.508664Z",
     "start_time": "2023-11-11T12:24:29.503313Z"
    },
    "colab": {
     "base_uri": "https://localhost:8080/"
    },
    "id": "FIFo8kSf0uCP",
    "outputId": "8e0520ba-d07b-4d38-d325-5f28ebcb7257"
   },
   "outputs": [],
   "source": [
    "# подсчитаем количество строк со значение ноль\n",
    "len(df[df['age_for_service_date']==0])"
   ]
  },
  {
   "cell_type": "code",
   "execution_count": null,
   "metadata": {
    "ExecuteTime": {
     "end_time": "2023-11-11T12:24:29.532212Z",
     "start_time": "2023-11-11T12:24:29.510663Z"
    },
    "colab": {
     "base_uri": "https://localhost:8080/",
     "height": 363
    },
    "id": "x7_JD4ck2RGm",
    "outputId": "640945f1-fcb5-45fa-e5f0-24b29485ac7d"
   },
   "outputs": [],
   "source": [
    "# получем несколько строк и посмотрим на них\n",
    "df[df['age_for_service_date']==0].head(10)"
   ]
  },
  {
   "cell_type": "markdown",
   "metadata": {
    "id": "F5A4zx8t5iSg"
   },
   "source": [
    "Можно предположить, что часть клиентов - дети, но оставим эту версию, так как врачи ходят к грудничкам или их возят в детские поликлиники. Поэтому, нули заполним средним значением возроста по полу. [(см. исправления)](#scrollTo=J9kk8kPu6RvC&uniqifier=1)"
   ]
  },
  {
   "cell_type": "markdown",
   "metadata": {
    "id": "XNu6-rCx3G7d"
   },
   "source": [
    "# **Предобработка данных**\n",
    "\n",
    "Будет сделано:\n",
    "* очистка данных от ошибок, дубликатов и выбросов;\n",
    "* заполнение пропущенных значений или удаление строк с пропущенными данными;\n",
    "* преобразование данных в удобный формат, например, в числовой или категориальный.\n",
    "\n",
    "\n",
    "\n"
   ]
  },
  {
   "cell_type": "code",
   "execution_count": null,
   "metadata": {
    "ExecuteTime": {
     "end_time": "2023-11-11T12:24:29.577755Z",
     "start_time": "2023-11-11T12:24:29.534210Z"
    },
    "colab": {
     "base_uri": "https://localhost:8080/"
    },
    "id": "YFZwUm0Mp6pa",
    "outputId": "1f0ce84b-63b6-4958-f310-444d443807ff"
   },
   "outputs": [],
   "source": [
    "# Проверка на отсутствие пропусков\n",
    "df.isnull().sum()"
   ]
  },
  {
   "cell_type": "markdown",
   "metadata": {
    "id": "y1EaNqTkrVaO"
   },
   "source": [
    "С учетом этой информации, стоит обратить внимание на обработку столбца `sex_id`, чтобы учесть пропущенные значения, например, заполнив их наиболее часто встречающимся значением (модой)."
   ]
  },
  {
   "cell_type": "code",
   "execution_count": null,
   "metadata": {
    "ExecuteTime": {
     "end_time": "2023-11-11T12:24:29.611777Z",
     "start_time": "2023-11-11T12:24:29.581749Z"
    },
    "colab": {
     "base_uri": "https://localhost:8080/"
    },
    "id": "IK4ksOjorGNn",
    "outputId": "893e6976-b121-4ecd-9a13-c7f1f94ca38d"
   },
   "outputs": [],
   "source": [
    "# Заполнение пропущенных значений в столбце 'sex_id' модой\n",
    "mode_sex_id = df['sex_id'].mode()[0]  # Находим моду (наиболее часто встречающееся значение)\n",
    "df['sex_id'].fillna(mode_sex_id, inplace=True)  # Заполняем пропуски модой\n",
    "\n",
    "# Проверяем, что больше нет пропущенных значений\n",
    "print(df.isnull().sum())"
   ]
  },
  {
   "cell_type": "code",
   "execution_count": null,
   "metadata": {
    "ExecuteTime": {
     "end_time": "2023-11-11T12:24:29.659685Z",
     "start_time": "2023-11-11T12:24:29.613777Z"
    },
    "colab": {
     "base_uri": "https://localhost:8080/"
    },
    "id": "DGuy3f5Sro-E",
    "outputId": "14f242b9-510e-4241-c2e7-fb93ea68cf34"
   },
   "outputs": [],
   "source": [
    "# поиск дубликатов\n",
    "df.duplicated().sum()"
   ]
  },
  {
   "cell_type": "markdown",
   "metadata": {
    "id": "-DZq-fcI2i3H"
   },
   "source": [
    "Дубликаты в данных отстутствуют."
   ]
  },
  {
   "cell_type": "markdown",
   "metadata": {
    "id": "ou8arCKcE8oM"
   },
   "source": [
    "## Внесение исправлений по столбцам"
   ]
  },
  {
   "cell_type": "markdown",
   "metadata": {
    "id": "V758RNdUjnhn"
   },
   "source": [
    "Перед внесением изменений в типы данных, \\\n",
    "посмотрим на исходный типданных, используя метод `.info()`"
   ]
  },
  {
   "cell_type": "code",
   "execution_count": null,
   "metadata": {
    "ExecuteTime": {
     "end_time": "2023-11-11T12:24:29.690715Z",
     "start_time": "2023-11-11T12:24:29.660688Z"
    },
    "colab": {
     "base_uri": "https://localhost:8080/"
    },
    "id": "rbV5PaJ-j_XI",
    "outputId": "38aeec61-d7bc-42da-c611-5a0b59844512"
   },
   "outputs": [],
   "source": [
    "df.info()"
   ]
  },
  {
   "cell_type": "code",
   "execution_count": null,
   "metadata": {
    "ExecuteTime": {
     "end_time": "2023-11-11T12:24:29.706891Z",
     "start_time": "2023-11-11T12:24:29.692714Z"
    },
    "id": "dcsBgBciDRss"
   },
   "outputs": [],
   "source": [
    "# Преобразование столбца 'record_id' в категориальный тип данных\n",
    "df['record_id'] = df['record_id'].astype('category')\n"
   ]
  },
  {
   "cell_type": "code",
   "execution_count": null,
   "metadata": {
    "ExecuteTime": {
     "end_time": "2023-11-11T12:24:29.714519Z",
     "start_time": "2023-11-11T12:24:29.707891Z"
    },
    "colab": {
     "base_uri": "https://localhost:8080/"
    },
    "id": "8FWh_zSBD87S",
    "outputId": "0378959c-83f6-408e-be5c-b15192606d50"
   },
   "outputs": [],
   "source": [
    "df['record_id'].head()"
   ]
  },
  {
   "cell_type": "markdown",
   "metadata": {
    "id": "LjzI56jZ-BWq"
   },
   "source": [
    "[(вернуться к связанной ячейке)](#scrollTo=D4O6dCWvFNWs&uniqifier=1)"
   ]
  },
  {
   "cell_type": "code",
   "execution_count": null,
   "metadata": {
    "ExecuteTime": {
     "end_time": "2023-11-11T12:24:29.738880Z",
     "start_time": "2023-11-11T12:24:29.723499Z"
    },
    "colab": {
     "base_uri": "https://localhost:8080/"
    },
    "id": "EMMknHc9tENL",
    "outputId": "abcd87a6-0d03-466e-b87f-404065610d0b"
   },
   "outputs": [],
   "source": [
    "# Преобразование столбца 'service_date' в тип данных datetime\n",
    "df['service_date'] = pd.to_datetime(df['service_date'])\n",
    "\n",
    "# Теперь столбец 'service_date' имеет тип данных datetime\n",
    "print(df.dtypes)"
   ]
  },
  {
   "cell_type": "markdown",
   "metadata": {
    "id": "YNvKYgqY8vTG"
   },
   "source": [
    "[(вернуться к связанной ячейке)](#scrollTo=exvlPSkqkb7M&uniqifier=1)"
   ]
  },
  {
   "cell_type": "code",
   "execution_count": null,
   "metadata": {
    "ExecuteTime": {
     "end_time": "2023-11-11T12:24:29.748807Z",
     "start_time": "2023-11-11T12:24:29.740878Z"
    },
    "id": "sRLFrRicAyGZ"
   },
   "outputs": [],
   "source": [
    "# Преобразование столбца 'insured' в категориальный тип данных\n",
    "df['insured'] = df['insured'].astype('category')\n"
   ]
  },
  {
   "cell_type": "code",
   "execution_count": null,
   "metadata": {
    "ExecuteTime": {
     "end_time": "2023-11-11T12:24:29.757824Z",
     "start_time": "2023-11-11T12:24:29.749807Z"
    },
    "colab": {
     "base_uri": "https://localhost:8080/"
    },
    "id": "LXV-Q7haAyGi",
    "outputId": "27f7696e-ed9e-49ce-9d0b-a7b904b97967"
   },
   "outputs": [],
   "source": [
    "# проверяем внесенные изменения в тип данных\n",
    "print(df.dtypes)"
   ]
  },
  {
   "cell_type": "markdown",
   "metadata": {
    "id": "alsOfkSqAyGi"
   },
   "source": [
    "[(вернуться к связанной ячейке)](#scrollTo=59GIb-QKAMfx&uniqifier=1)"
   ]
  },
  {
   "cell_type": "code",
   "execution_count": null,
   "metadata": {
    "ExecuteTime": {
     "end_time": "2023-11-11T12:24:29.771743Z",
     "start_time": "2023-11-11T12:24:29.758824Z"
    },
    "id": "dCiIKI4YLlua"
   },
   "outputs": [],
   "source": [
    "# Преобразование столбца 'sex_id' в категориальный тип данных\n",
    "df['sex_id'] = df['sex_id'].astype('category')\n"
   ]
  },
  {
   "cell_type": "code",
   "execution_count": null,
   "metadata": {
    "ExecuteTime": {
     "end_time": "2023-11-11T12:24:29.783308Z",
     "start_time": "2023-11-11T12:24:29.773740Z"
    },
    "colab": {
     "base_uri": "https://localhost:8080/"
    },
    "id": "ESiQCGu0Llum",
    "outputId": "e01d7b51-d39c-4e9b-e3be-3956c6f2ee52"
   },
   "outputs": [],
   "source": [
    "# проверяем внесенные изменения в тип данных\n",
    "print(df.dtypes)"
   ]
  },
  {
   "cell_type": "markdown",
   "metadata": {
    "id": "cQsYcjAyLlun"
   },
   "source": [
    "[(вернуться к связанной ячейке)](#scrollTo=rVF-S641LL3F&uniqifier=1)"
   ]
  },
  {
   "cell_type": "markdown",
   "metadata": {
    "id": "dscvIM2RvB87"
   },
   "source": [
    "В столбце `age_for_service_date` нули заменем на среднее значение возраста с учетом пола:"
   ]
  },
  {
   "cell_type": "code",
   "execution_count": null,
   "metadata": {
    "ExecuteTime": {
     "end_time": "2023-11-11T12:24:29.811312Z",
     "start_time": "2023-11-11T12:24:29.785306Z"
    },
    "id": "J9kk8kPu6RvC"
   },
   "outputs": [],
   "source": [
    "# создаем два отдельных DataFrame для мужчин и женщин\n",
    "male_df = df[df['sex_id'] == 1].copy()  # Используйте .copy() для создания копии\n",
    "female_df = df[df['sex_id'] == 2].copy()  # Используйте .copy() для создания копии\n",
    "\n",
    "# заменим нули в столбце 'age_for_service_date' для мужчин средним значением\n",
    "male_mean_age = male_df['age_for_service_date'].mean()\n",
    "male_df.loc[male_df['age_for_service_date'] == 0, 'age_for_service_date'] = male_mean_age\n",
    "\n",
    "# заменим нули в столбце 'age_for_service_date' для женщин средним значением\n",
    "female_mean_age = female_df['age_for_service_date'].mean()\n",
    "female_df.loc[female_df['age_for_service_date'] == 0, 'age_for_service_date'] = female_mean_age\n",
    "\n",
    "# объединим обновленные DataFrame обратно в исходный DataFrame\n",
    "df = pd.concat([male_df, female_df])"
   ]
  },
  {
   "cell_type": "code",
   "execution_count": null,
   "metadata": {
    "ExecuteTime": {
     "end_time": "2023-11-11T12:24:29.819380Z",
     "start_time": "2023-11-11T12:24:29.813311Z"
    },
    "colab": {
     "base_uri": "https://localhost:8080/"
    },
    "id": "fmN9raUz6vlc",
    "outputId": "b1bd2e6a-1068-40e9-d79a-4208db625ef6"
   },
   "outputs": [],
   "source": [
    "# подсчитаем количество строк со значение ноль\n",
    "len(df[df['age_for_service_date']==0])"
   ]
  },
  {
   "cell_type": "markdown",
   "metadata": {
    "id": "pDZJCXPm7j7Q"
   },
   "source": [
    "[(вернуться к связанной ячейке)](#scrollTo=F5A4zx8t5iSg&uniqifier=1)"
   ]
  },
  {
   "cell_type": "code",
   "execution_count": null,
   "metadata": {
    "ExecuteTime": {
     "end_time": "2023-11-11T12:24:29.845865Z",
     "start_time": "2023-11-11T12:24:29.820382Z"
    },
    "colab": {
     "base_uri": "https://localhost:8080/",
     "height": 301
    },
    "id": "_ArJKljbkIHH",
    "outputId": "d5360b9f-064a-4fb4-f5d2-dc59a51ac840"
   },
   "outputs": [],
   "source": [
    "# посмотрим на описательную статистику в конце предобработки\n",
    "df.describe()"
   ]
  },
  {
   "cell_type": "markdown",
   "metadata": {
    "id": "mMZxEllMvrBZ"
   },
   "source": [
    "На этом предобработка закончена. Нет пропусков, аномальных значений, типы данных соответствующие. \\\n",
    "Переходим к исследовательскому анализу данных."
   ]
  },
  {
   "cell_type": "markdown",
   "metadata": {
    "id": "fR72deBhuone"
   },
   "source": [
    "# **Исследовательский анализ данных**"
   ]
  },
  {
   "cell_type": "markdown",
   "metadata": {
    "id": "5M23inoXkM49"
   },
   "source": [
    "## **Гипотезы**"
   ]
  },
  {
   "cell_type": "markdown",
   "metadata": {
    "id": "o0AFlsCh-Cad"
   },
   "source": [
    "Прежде чем приступить к исследовательскому анализу данных, **предположу**, что **стоимость лечения увеличилась** в 22-м году по отношению к 21-му году.\n",
    "\n",
    "Выдвигаю следующие **гипотезы**:\n",
    "1. Стоимость лечения увеличилась, так как увеличился общий уровень инфляции в стране в 22 году. \\\n",
    "2. В 22-ом году стоимость лечения увеличилась, потому что увеличился средний возраст клиента - чем старше \\\n",
    "человек, тем больше обследуется и лечится (имеется ввиду, что когда клиенту 20 лет, то он платит в основном за анализы (плюс/минус), и чем старше он сановится, тем больше услуг требуется; соответственно, растет стоимость лечения).\n",
    "3. На повышение стоимости лечения в 2022 году влияет рост курса доллара. (Поскольку для работы используются импортные лекарства, оборудование и материалы. Мы покупаем их за доллары, а доллары приобретаем за рубли. Если доллар дорожает, мы вынуждены платить больше рублей за оборудование и прочие необходимости, что сказывается на стоимости предоставляемых услуг)."
   ]
  },
  {
   "cell_type": "markdown",
   "metadata": {
    "id": "iftztGNHii9_"
   },
   "source": [
    "## Анализ выручки"
   ]
  },
  {
   "cell_type": "code",
   "execution_count": null,
   "metadata": {
    "ExecuteTime": {
     "end_time": "2023-11-11T12:24:29.865194Z",
     "start_time": "2023-11-11T12:24:29.847863Z"
    },
    "colab": {
     "base_uri": "https://localhost:8080/",
     "height": 206
    },
    "id": "vCLlFIHLnMqF",
    "outputId": "ca174045-6597-4fd8-f281-c029ab116c45"
   },
   "outputs": [],
   "source": [
    "# получаем срез данных\n",
    "df[(df['service_number'] >=1) & (df['service_name']=='Удаление серных пробок (за ухо)')].head()"
   ]
  },
  {
   "cell_type": "markdown",
   "metadata": {
    "id": "6kggx2IlpQEs"
   },
   "source": [
    "Срез получен по одной услуге `Удаление серных пробок (за ухо)`. \\\n",
    "Данный срез данных позволил понять, что в столбце `service_amount` \\\n",
    "указана общая сумма выплат за все оказанные услуги, \\\n",
    "количество которых отражено в столбце `service_number`. \\\n"
   ]
  },
  {
   "cell_type": "markdown",
   "metadata": {
    "id": "5guYx_fAmDlu"
   },
   "source": [
    "Тогда для расчета общей выручки, просто сложим все значения столбца `service_amount`."
   ]
  },
  {
   "cell_type": "code",
   "execution_count": null,
   "metadata": {
    "ExecuteTime": {
     "end_time": "2023-11-11T12:24:29.870951Z",
     "start_time": "2023-11-11T12:24:29.867192Z"
    },
    "colab": {
     "base_uri": "https://localhost:8080/"
    },
    "id": "43X5bV6um1eg",
    "outputId": "5c84825f-bb96-42ba-f17a-5e9948920a9f"
   },
   "outputs": [],
   "source": [
    "# Вычисляем общую выручку\n",
    "total_revenue = df['service_amount'].sum()\n",
    "\n",
    "print(f'Общая выручка: {total_revenue} руб.')\n"
   ]
  },
  {
   "cell_type": "markdown",
   "metadata": {
    "id": "9K6ETwSOnAjP"
   },
   "source": [
    "Общая выручка за два года составила 99,6 млн. руб."
   ]
  },
  {
   "cell_type": "markdown",
   "metadata": {
    "id": "2-eLrHicqAPw"
   },
   "source": [
    "Помотрим общуюю динамику выручки:"
   ]
  },
  {
   "cell_type": "code",
   "execution_count": null,
   "metadata": {
    "ExecuteTime": {
     "end_time": "2023-11-11T12:24:29.915653Z",
     "start_time": "2023-11-11T12:24:29.871952Z"
    },
    "id": "Y5m7RIlDqG12"
   },
   "outputs": [],
   "source": [
    "# Создаем датафреймы для 2021 и 2022 годов\n",
    "df_2021 = df[df['service_date'].dt.year == 2021]\n",
    "df_2022 = df[df['service_date'].dt.year == 2022]\n",
    "\n",
    "# Создаем новые столбцы для года и месяца\n",
    "df['year'] = df['service_date'].dt.year\n",
    "df['month'] = df['service_date'].dt.month"
   ]
  },
  {
   "cell_type": "code",
   "execution_count": null,
   "metadata": {
    "ExecuteTime": {
     "end_time": "2023-11-11T12:24:29.932759Z",
     "start_time": "2023-11-11T12:24:29.916653Z"
    },
    "colab": {
     "base_uri": "https://localhost:8080/",
     "height": 677
    },
    "id": "u-yGlPetvKaw",
    "outputId": "326866a9-a210-476e-a25d-639d1bc969ae"
   },
   "outputs": [],
   "source": [
    "# Группируем данные по году и месяцу, а затем выполните агрегацию выручки\n",
    "result = df.groupby(['year', 'month'])['service_amount'].sum().reset_index()\n",
    "\n",
    "# Результат будет содержать год, месяц и сумму выручки для каждой группы\n",
    "result"
   ]
  },
  {
   "cell_type": "markdown",
   "metadata": {
    "id": "5ZjLjH_9qX-G"
   },
   "source": [
    "Строим линейный график для отрожения динамики:"
   ]
  },
  {
   "cell_type": "code",
   "execution_count": null,
   "metadata": {
    "ExecuteTime": {
     "end_time": "2023-11-11T12:24:30.314048Z",
     "start_time": "2023-11-11T12:24:29.934758Z"
    },
    "colab": {
     "base_uri": "https://localhost:8080/",
     "height": 601
    },
    "id": "_5pEB8rqvLUN",
    "outputId": "b10d06c1-3f68-433f-f3e3-dab41986d0b1"
   },
   "outputs": [],
   "source": [
    "# Линейный график динамики\n",
    "plt.figure(figsize=(10, 6))\n",
    "plt.plot(result['year'].astype(str) + '-' + result['month'].astype(str), result['service_amount']/1000000, marker='o')\n",
    "plt.xlabel('Год-Месяц')\n",
    "plt.ylabel('Выручка, млн. руб.')\n",
    "plt.title('Общая динамика выручки за все время, млн. руб')\n",
    "plt.xticks(rotation=45)\n",
    "plt.grid(True)\n",
    "plt.show()\n"
   ]
  },
  {
   "cell_type": "markdown",
   "metadata": {
    "id": "jgZRmBPurWRF"
   },
   "source": [
    "Далее рассчитаем общую выручку по каждому году:"
   ]
  },
  {
   "cell_type": "code",
   "execution_count": null,
   "metadata": {
    "ExecuteTime": {
     "end_time": "2023-11-11T12:24:30.470598Z",
     "start_time": "2023-11-11T12:24:30.315051Z"
    },
    "colab": {
     "base_uri": "https://localhost:8080/",
     "height": 475
    },
    "id": "NehnnUrqSG9l",
    "outputId": "5d81f962-74b5-4f65-b449-78c81d620e3e"
   },
   "outputs": [],
   "source": [
    "# Вычисляем общую выручку для каждого года\n",
    "total_revenue_2021 = df_2021['service_amount'].sum() / 1e6  # Переводим в миллионы\n",
    "total_revenue_2022 = df_2022['service_amount'].sum() / 1e6  # Переводим в миллионы\n",
    "\n",
    "# Создаем столбчатую диаграмму\n",
    "years = [2021, 2022]\n",
    "revenues = [total_revenue_2021, total_revenue_2022]\n",
    "\n",
    "plt.bar(years, revenues)\n",
    "plt.xticks(years, fontsize=11)  # Указываем, какие значения отображать на оси X\n",
    "plt.xlabel('Год')\n",
    "plt.ylabel('Выручка (в млн рублей)')\n",
    "plt.title('Выручка по годам', fontsize=16)\n",
    "\n",
    "# Добавлеем надписи значений над столбцами\n",
    "for i, value in enumerate(revenues):\n",
    "    plt.text(years[i], value + 0.1, str(round(value, 1)), ha='center', fontsize=13)\n",
    "\n",
    "# Устанавливаем диапазон оси Y\n",
    "plt.ylim(40, 53)\n",
    "\n",
    "plt.show()\n"
   ]
  },
  {
   "cell_type": "markdown",
   "metadata": {
    "id": "3YLR_uLPUpKl"
   },
   "source": [
    "Из графика мы видим, что в 2021 году на 1.6 млн. руб. было заработано больше."
   ]
  },
  {
   "cell_type": "markdown",
   "metadata": {
    "id": "ddYye33cVCEr"
   },
   "source": [
    "Далее сравним выручку месяц к месяцу каждого года."
   ]
  },
  {
   "cell_type": "markdown",
   "metadata": {
    "id": "TElYHWnvEOdk"
   },
   "source": [
    "Для сравнения выручки по месяцам каждого года также построим графики для визуализации:"
   ]
  },
  {
   "cell_type": "code",
   "execution_count": null,
   "metadata": {
    "ExecuteTime": {
     "end_time": "2023-11-11T12:24:30.768469Z",
     "start_time": "2023-11-11T12:24:30.471599Z"
    },
    "colab": {
     "base_uri": "https://localhost:8080/",
     "height": 564
    },
    "id": "tNupae4GWAVd",
    "outputId": "b35128b8-a18c-46f3-f0c7-8c1f50371d2c"
   },
   "outputs": [],
   "source": [
    "# Создаем список месяцев\n",
    "months = range(1, 13)\n",
    "\n",
    "# Создаем словарь для хранения выручки по месяцам и годам\n",
    "revenue_by_month = {year: [] for year in df['year'].unique()}\n",
    "\n",
    "# Заполняем словарь суммой выручки для каждого месяца\n",
    "for year in df['year'].unique():\n",
    "    for month in months:\n",
    "        total_revenue = df[(df['year'] == year) & (df['month'] == month)]['service_amount'].sum()\n",
    "        revenue_by_month[year].append(total_revenue / 1e6)  # Переводим в миллионы\n",
    "\n",
    "# Строим столбчатую диаграмму\n",
    "fig, ax = plt.subplots(figsize=(12, 6))\n",
    "\n",
    "x = range(1, 13)  # 12 месяцев\n",
    "bar_width = 0.4\n",
    "\n",
    "# Отображаем выручку для каждого года\n",
    "for year in df['year'].unique():\n",
    "    ax.bar(x, revenue_by_month[year], width=bar_width, label=str(year), align='center')\n",
    "    x = [i + bar_width for i in x]\n",
    "\n",
    "ax.set_xlabel('Месяц')\n",
    "ax.set_ylabel('Выручка, млн. руб.')\n",
    "ax.set_title('Выручка по месяцам для каждого года')\n",
    "ax.set_xticks([i - 0.2 for i in range(1, 13)])  # Добавляем смещение для более четкого отображения месяцев\n",
    "ax.set_xticklabels(['Янв', 'Фев', 'Мар', 'Апр', 'Май', 'Июн', 'Июл', 'Авг', 'Сен', 'Окт', 'Ноя', 'Дек'])\n",
    "ax.legend()\n",
    "\n",
    "# Добавляем сетку\n",
    "ax.grid(True, axis='y')\n",
    "\n",
    "plt.show()\n"
   ]
  },
  {
   "cell_type": "markdown",
   "metadata": {
    "id": "cKWqjW9GFe63"
   },
   "source": [
    "Можно сделать вывод, что выручка 22 года значительно выше в каждом месяце, для которых есть данные, по сравнению с месяцами в 21 году. Лишь в августе 22 выручка ниже, августа 21-го."
   ]
  },
  {
   "cell_type": "code",
   "execution_count": null,
   "metadata": {
    "ExecuteTime": {
     "end_time": "2023-11-11T12:24:30.927907Z",
     "start_time": "2023-11-11T12:24:30.770468Z"
    },
    "colab": {
     "base_uri": "https://localhost:8080/",
     "height": 498
    },
    "id": "s7fauBIWreax",
    "outputId": "94ba8585-a41b-45e2-b612-0aedf16896d6"
   },
   "outputs": [],
   "source": [
    "# Создаем фильтры для данных 2021 и 2022 годов с января по август\n",
    "df_2021_filtered = df[(df['year'] == 2021) & (df['month'] >= 1) & (df['month'] <= 8)]\n",
    "df_2022_filtered = df[(df['year'] == 2022) & (df['month'] >= 1) & (df['month'] <= 8)]\n",
    "\n",
    "# Вычисляем общую выручку для каждого года\n",
    "total_revenue_2021_filtered = df_2021_filtered['service_amount'].sum() / 1e6  # Переводим в миллионы\n",
    "total_revenue_2022_filtered = df_2022_filtered['service_amount'].sum() / 1e6  # Переводим в миллионы\n",
    "\n",
    "# Создаем столбчатую диаграмму\n",
    "years = [2021, 2022]\n",
    "revenues_filtered = [total_revenue_2021_filtered, total_revenue_2022_filtered]\n",
    "\n",
    "plt.bar(years, revenues_filtered)\n",
    "plt.xticks(years, fontsize=11)  # Указываем, какие значения отображать на оси X\n",
    "plt.xlabel('Год')\n",
    "plt.ylabel('Выручка (в млн рублей)')\n",
    "plt.title('Выручка за период с января \\n'\n",
    "'по август каждого года', fontsize=16)\n",
    "\n",
    "# Добавлеяем надписи с числом клиентов над столбцами\n",
    "for i, value in enumerate(revenues_filtered):\n",
    "    plt.text(years[i], value + 0.1, str(round(value, 1)), ha='center', fontsize=13)\n",
    "\n",
    "# Устанавливаем диапазон оси Y\n",
    "plt.ylim(20, 53)\n",
    "\n",
    "plt.show()\n"
   ]
  },
  {
   "cell_type": "markdown",
   "metadata": {
    "id": "ObuEoSX8HAPC"
   },
   "source": [
    "На данном графике отображена общая выручка за период с января по август по каждому году, т. к. за эти месяцы есть данные и за 21 год (30 млн. руб) и за 22-й(49 млн. руб). Разница существенна - 19 млн. руб., **но это не как не объясняет, стало лечение дороже или нет**. \\\n",
    "Возможные объяснения этого роста могут включать увеличение числа клиентов, повышение числа визитов или расширение объема оказанных услуг."
   ]
  },
  {
   "cell_type": "markdown",
   "metadata": {
    "id": "2bBE4q8zISCh"
   },
   "source": [
    "## Анализ среднего чека и средней стоимости одной услуги по годам\n"
   ]
  },
  {
   "cell_type": "code",
   "execution_count": null,
   "metadata": {
    "ExecuteTime": {
     "end_time": "2023-11-11T12:24:30.934820Z",
     "start_time": "2023-11-11T12:24:30.928908Z"
    },
    "colab": {
     "base_uri": "https://localhost:8080/"
    },
    "id": "M068-oVcIfBP",
    "outputId": "f0e36d24-304b-4c72-cb19-1f9f5efb58d6"
   },
   "outputs": [],
   "source": [
    "# Рассчет среднего чека по каждому году\n",
    "mean_price_2021 = df_2021['service_amount'].mean()\n",
    "mean_price_2022 = df_2022['service_amount'].mean()\n",
    "\n",
    "# Вывод результатов\n",
    "print(f'Средний чек в 2021 году: {mean_price_2021:.2f} руб.')\n",
    "print(f'Средний чек в 2022 году: {mean_price_2022:.2f} руб.')\n"
   ]
  },
  {
   "cell_type": "code",
   "execution_count": null,
   "metadata": {
    "ExecuteTime": {
     "end_time": "2023-11-11T12:24:31.083561Z",
     "start_time": "2023-11-11T12:24:30.935822Z"
    },
    "colab": {
     "base_uri": "https://localhost:8080/",
     "height": 472
    },
    "id": "0mt7D_2doIZ6",
    "outputId": "9693e492-94fe-4bae-c440-5ddccb75553a"
   },
   "outputs": [],
   "source": [
    "import matplotlib.pyplot as plt\n",
    "\n",
    "# Рассчет среднего чека по каждому году\n",
    "mean_price_2021 = df_2021['service_amount'].mean().round()\n",
    "mean_price_2022 = df_2022['service_amount'].mean().round()\n",
    "\n",
    "# Создание столбчатой диаграммы\n",
    "years = [2021, 2022]\n",
    "mean_prices = [mean_price_2021, mean_price_2022]\n",
    "\n",
    "plt.bar(years, mean_prices, color=['blue', 'orange'])\n",
    "plt.xticks(years)  # Указываем, какие значения отображать на оси X\n",
    "plt.xlabel('Год')\n",
    "plt.ylabel('Средний чек (в рублях)')\n",
    "plt.title('Средний чек по годам')\n",
    "plt.grid(axis='y')\n",
    "\n",
    "# Добавление надписей с числом клиентов над столбцами\n",
    "for i, value in enumerate(mean_prices):\n",
    "    plt.text(years[i], value + 5, str(value), ha='center')\n",
    "\n",
    "# Устанавливаем диапазон оси Y\n",
    "plt.ylim(1000, 1250)\n",
    "plt.show()\n"
   ]
  },
  {
   "cell_type": "code",
   "execution_count": null,
   "metadata": {
    "ExecuteTime": {
     "end_time": "2023-11-11T12:24:31.091846Z",
     "start_time": "2023-11-11T12:24:31.084601Z"
    },
    "colab": {
     "base_uri": "https://localhost:8080/"
    },
    "id": "jQux0A2nKs-c",
    "outputId": "175f7e71-51b6-4b91-86c6-33e70c7e7711"
   },
   "outputs": [],
   "source": [
    "# Вычисляем среднюю стоимость одной услуги для каждого года\n",
    "average_cost_2021 = df_2021['service_amount'].sum() / df_2021['service_number'].sum()\n",
    "average_cost_2022 = df_2022['service_amount'].sum() / df_2022['service_number'].sum()\n",
    "\n",
    "# Вычисляем процентное изменение цены одной услуги в 2022 году по отношению к 2021 году\n",
    "percentage_change = ((average_cost_2022 - average_cost_2021) / average_cost_2021) * 100\n",
    "\n",
    "print(f'Средняя стоимость одной услуги в 2021 году: {average_cost_2021:.2f} рублей')\n",
    "print(f'Средняя стоимость одной услуги в 2022 году: {average_cost_2022:.2f} рублей')\n",
    "print(f'Процентное изменение цены на услугу в 2022 году по отношению к 2021 году: {percentage_change:.2f}%')\n"
   ]
  },
  {
   "cell_type": "markdown",
   "metadata": {
    "id": "CJJYC3hSGrqY"
   },
   "source": [
    "### **Выводы по первой гипотезе**"
   ]
  },
  {
   "cell_type": "markdown",
   "metadata": {
    "id": "hY_gbUmeMglg"
   },
   "source": [
    "Из полученных расчетов видно - **средний чек** в 22-м году составил 1195 руб. Это на 4.9% больше, чем в 21-м: 1139 руб. \\\n",
    "**Средняя стоимость** услуги увеличилась с 1111 рублей в 2021 году до 1171 рублей в 2022 году, что составляет прирост на 5.37%. Однако, это увеличение цены на услугу оказалось ниже, чем уровень инфляции.\n",
    "\n",
    "В 2022 году официальный уровень инфляция составил 11.94%, что означает, что в среднем цены на товары и услуги увеличились на 11.94%. В то время как средняя стоимость одной услуги увеличилась всего на 5.37% по отношению к стоимости услуги в 2021 году. Парадокс - стоимость услуг в 22-ом стала выше, чем в 21-ом,  но услуги стали относительно более доступными для клиентов в 2022 году, по сравнению с общим уровнем инфляции.\n",
    "\n",
    "Следовательно, гипотиза \"Стоимость лечения увеличилась, так как увеличился общий уровень инфляции в стране в 22 году\" **не отвергается**.\n"
   ]
  },
  {
   "cell_type": "markdown",
   "metadata": {
    "id": "TN0cu2xJLPeK"
   },
   "source": [
    "## Анализ среднего возроста клиентов в 2021 году и в 2022 году"
   ]
  },
  {
   "cell_type": "markdown",
   "metadata": {
    "id": "VoRC56SYkud6"
   },
   "source": [
    "Постоим гисторграмму распределения, если гистограмма 2022 года значительно смещена в право, значит гипотиза о влиянии возроста на стоимость не отвергается."
   ]
  },
  {
   "cell_type": "code",
   "execution_count": null,
   "metadata": {
    "ExecuteTime": {
     "end_time": "2023-11-11T12:24:32.079497Z",
     "start_time": "2023-11-11T12:24:31.092847Z"
    },
    "colab": {
     "base_uri": "https://localhost:8080/",
     "height": 573
    },
    "id": "Ypt0PnzXm7mW",
    "outputId": "0636efea-93b2-4b4c-b966-67976b8e341d"
   },
   "outputs": [],
   "source": [
    "# Установливаем стиль графика seaborn для лучшей визуализации\n",
    "sns.set(style=\"whitegrid\")\n",
    "\n",
    "# Создаем фигуру с двумя подграфиками\n",
    "fig, axes = plt.subplots(nrows=1, ncols=2, figsize=(12, 6), sharey=True)\n",
    "\n",
    "# Гистограмма для 2021 года\n",
    "sns.histplot(df_2021['age_for_service_date'], bins=20, kde=True, ax=axes[0], color='blue')\n",
    "mean_age_2021 = df_2021['age_for_service_date'].mean()\n",
    "axes[0].axvline(mean_age_2021, color='red', linestyle='dashed', linewidth=2)\n",
    "axes[0].text(0.95, 0.95, f'Средний возраст: {mean_age_2021:.2f}', color='red', ha='right', va='top', transform=axes[0].transAxes)\n",
    "\n",
    "# Подписываем оси\n",
    "axes[0].set_title('Распределение возраста в 2021 году')\n",
    "axes[0].set_xlabel('Возраст клиентов')\n",
    "axes[0].set_ylabel('Частота')\n",
    "\n",
    "# Гистограмма для 2022 года\n",
    "sns.histplot(df_2022['age_for_service_date'], bins=20, kde=True, ax=axes[1], color='orange')\n",
    "mean_age_2022 = df_2022['age_for_service_date'].mean()\n",
    "axes[1].axvline(mean_age_2022, color='red', linestyle='dashed', linewidth=2)\n",
    "axes[1].text(0.95, 0.95, f'Средний возраст: {mean_age_2022:.2f}', color='red', ha='right', va='top', transform=axes[1].transAxes)\n",
    "\n",
    "# Подписываем оси\n",
    "axes[1].set_title('Распределение возраста в 2022 году')\n",
    "axes[1].set_xlabel('Возраст клиентов')\n",
    "\n",
    "plt.show()\n"
   ]
  },
  {
   "cell_type": "markdown",
   "metadata": {
    "id": "v_wOzR3ymTU3"
   },
   "source": [
    "По графику можно судить, что количество клиентов изменилось, но изменения являются незначительными. Далее рассмотрим корреляцию между возрастом и стоимостью услуг, чтобы сделать окончательный вывод по гипотезе."
   ]
  },
  {
   "cell_type": "markdown",
   "metadata": {
    "id": "752D3pu3lrrk"
   },
   "source": [
    "###  Корреляция между возрастом и стоимостью услуг\n",
    "\n"
   ]
  },
  {
   "cell_type": "code",
   "execution_count": null,
   "metadata": {
    "ExecuteTime": {
     "end_time": "2023-11-11T12:24:32.088134Z",
     "start_time": "2023-11-11T12:24:32.080497Z"
    },
    "colab": {
     "base_uri": "https://localhost:8080/"
    },
    "id": "jbk-Qw5ijk-F",
    "outputId": "575160a3-2c1a-49fb-e371-8ba345043bcd"
   },
   "outputs": [],
   "source": [
    "# Пример: Корреляция между возрастом и ценой услуги\n",
    "correlation_age_price = df['age_for_service_date'].corr(df['service_amount']).round(3)\n",
    "print(f'Корреляция между возрастом и ценой услуги: {correlation_age_price}')\n"
   ]
  },
  {
   "cell_type": "markdown",
   "metadata": {
    "id": "9q9wltLyUHIc"
   },
   "source": [
    "Как видно из расчёта, общая корреляция составляет 0.019, что говорит практически об отсутствии взаимосвязи возроста и стоимости улсуг. Посмотрим, как она выглядит на графике рассеивания:"
   ]
  },
  {
   "cell_type": "code",
   "execution_count": null,
   "metadata": {
    "ExecuteTime": {
     "end_time": "2023-11-11T12:24:32.606029Z",
     "start_time": "2023-11-11T12:24:32.090131Z"
    },
    "colab": {
     "base_uri": "https://localhost:8080/",
     "height": 593
    },
    "id": "ibcHzrpzVQ6o",
    "outputId": "08ac43d6-35e9-405f-e0f1-ed519dc300ac"
   },
   "outputs": [],
   "source": [
    "# Установите стиль графика seaborn для лучшей визуализации\n",
    "sns.set(style=\"whitegrid\")\n",
    "\n",
    "# Построение графика корреляции\n",
    "plt.figure(figsize=(8, 6))\n",
    "sns.scatterplot(x='age_for_service_date', y='service_amount', data=df, alpha=0.3)\n",
    "\n",
    "# Добавление подписей осей и заголовка\n",
    "plt.xlabel('Возраст клиентов')\n",
    "plt.ylabel('Стоимость услуг')\n",
    "plt.title('График корреляции между возрастом клиентов \\n'\n",
    "'и стоимостью услуг за весь период')\n",
    "\n",
    "# Устанавливаем диапазон оси Y\n",
    "plt.ylim(0, 8000)\n",
    "\n",
    "# Отображение графика\n",
    "plt.show()\n"
   ]
  },
  {
   "cell_type": "markdown",
   "metadata": {
    "id": "9DYQ6Q5jXdhI"
   },
   "source": [
    "### **Выводы по второй гипотезе**"
   ]
  },
  {
   "cell_type": "markdown",
   "metadata": {
    "id": "6bV5NG-0WixN"
   },
   "source": [
    "График подтвердил расчет корреляции - взаимосвязь отсутствует. Можно сделать вывод, что стоимость услуг, а следовательно и стоимость лечения, не зависит от возраста.\n",
    "\n",
    "Следовательно, гипотеза о том, что в 22-ом году стоимость лечения увеличилась из-за увеличения среднего возраста клиентов - чем старше человек, тем больше он обследуется и лечится, **отвергается**."
   ]
  },
  {
   "cell_type": "markdown",
   "metadata": {
    "id": "aJiDqsaaCMcT"
   },
   "source": [
    "## Проверга гипотизы \"Рост курса доллара влияет на повышение стоимости лечения в 2022 году по отношению к 2021 году\""
   ]
  },
  {
   "cell_type": "markdown",
   "metadata": {
    "id": "1FMLHGnza1-q"
   },
   "source": [
    "Все данные о курсе доллора были получены на сайта Банка России ( [Динамика официального курса заданной валюты](https://www.cbr.ru/currency_base/dynamics/))"
   ]
  },
  {
   "cell_type": "code",
   "execution_count": null,
   "metadata": {
    "ExecuteTime": {
     "end_time": "2023-11-11T12:24:32.619560Z",
     "start_time": "2023-11-11T12:24:32.607028Z"
    },
    "colab": {
     "base_uri": "https://localhost:8080/",
     "height": 677
    },
    "id": "21ofsn1tAQSz",
    "outputId": "e6ded1e5-6c0c-4720-8a34-4f5854aa61ba"
   },
   "outputs": [],
   "source": [
    "# создаю словарь `data` по курсу доллара с данными date и close\n",
    "data = {\n",
    "    \"date\": [\n",
    "        \"2021-01-01\", \"2021-02-01\", \"2021-03-01\", \"2021-04-01\", \"2021-05-01\",\n",
    "        \"2021-06-01\", \"2021-07-01\", \"2021-08-01\", \"2021-09-01\", \"2021-10-01\",\n",
    "        \"2021-11-01\", \"2021-12-01\", \"2022-01-01\", \"2022-02-01\", \"2022-03-01\",\n",
    "        \"2022-04-01\", \"2022-05-01\", \"2022-06-01\", \"2022-07-01\", \"2022-08-01\"\n",
    "    ],\n",
    "    \"close\": [\n",
    "        76.0, 74.0, 76.0, 75.0, 73.0, 73.0, 73.0, 73.0, 73.0, 71.0, 74.0, 75.0,\n",
    "        77.0, 104.0, 82.0, 71.0, 62.0, 54.0, 62.0, 59.0\n",
    "    ]\n",
    "}\n",
    "\n",
    "# Создаем DataFrame из словаря\n",
    "exchange_rate_data = pd.DataFrame(data)\n",
    "\n",
    "# выводим полученный датафрейм по курсу доллара\n",
    "exchange_rate_data"
   ]
  },
  {
   "cell_type": "code",
   "execution_count": null,
   "metadata": {
    "ExecuteTime": {
     "end_time": "2023-11-11T12:24:32.642750Z",
     "start_time": "2023-11-11T12:24:32.621563Z"
    },
    "colab": {
     "base_uri": "https://localhost:8080/"
    },
    "id": "2bLPk7rwfi5L",
    "outputId": "dda0ff33-bafc-4336-93b0-a340e0ff879c"
   },
   "outputs": [],
   "source": [
    "# Преобразуем столбцы 'date' в формат datetime\n",
    "exchange_rate_data['date'] = pd.to_datetime(exchange_rate_data['date'])\n",
    "\n",
    "# Рассчитываем среднюю стоимость услуги для каждого месяца\n",
    "mean_service_price_by_month = df.groupby(['year', 'month'])['service_amount'].mean().reset_index()\n",
    "\n",
    "# Объединение по индексу курс доллора с данными\n",
    "merged_data = mean_service_price_by_month.merge(exchange_rate_data, left_index=True, right_index=True)\n",
    "\n",
    "# Рассчитываем корреляцию между средней стоимостью услуги и курсом доллара\n",
    "correlation = mean_service_price_by_month['service_amount'].corr(merged_data['close'])\n",
    "\n",
    "# Выводим результат\n",
    "print(f'Корреляция между средней стоимостью услуги и курсом доллара: {correlation:.3f}')\n"
   ]
  },
  {
   "cell_type": "code",
   "execution_count": null,
   "metadata": {
    "ExecuteTime": {
     "end_time": "2023-11-11T12:24:32.871188Z",
     "start_time": "2023-11-11T12:24:32.644748Z"
    },
    "colab": {
     "base_uri": "https://localhost:8080/",
     "height": 501
    },
    "id": "uYe3CZqQ7QM1",
    "outputId": "564f0319-49b0-4e18-d947-187634274d80"
   },
   "outputs": [],
   "source": [
    "plt.scatter(merged_data['close'], merged_data['service_amount'])\n",
    "plt.xlabel('Курс доллара')\n",
    "plt.ylabel('стоимость услуги')\n",
    "plt.title('График корреляции курса доллора и средней \\n'\n",
    "'стоимости услуги (по месяцам за период 2021-2022 гг)')\n",
    "\n",
    "plt.show()\n"
   ]
  },
  {
   "cell_type": "markdown",
   "metadata": {
    "id": "eofFZKuU70RV"
   },
   "source": [
    "Интересный результат получился. Значение корреляции между средней стоимостью услуг за каждый месяц и курсом доллара за каждый месяц в период с 2021 по 2022 год равно -0.438. Зависимость обратная - чем больше курс доллора, тем ниже средняя стоимость услуги, следовательно, ниже стоимость лечения.\n",
    "\n",
    "Далее, стоит сравнить динамики изменения средней стоимости услуг и курса доллара за все месяца."
   ]
  },
  {
   "cell_type": "code",
   "execution_count": null,
   "metadata": {
    "ExecuteTime": {
     "end_time": "2023-11-11T12:24:33.251212Z",
     "start_time": "2023-11-11T12:24:32.872188Z"
    },
    "colab": {
     "base_uri": "https://localhost:8080/",
     "height": 573
    },
    "id": "x7w-xil6qy5c",
    "outputId": "973d4b80-e82e-433f-9a7f-0e46571fb6c6"
   },
   "outputs": [],
   "source": [
    "import matplotlib.pyplot as plt\n",
    "\n",
    "# Построение графика динамики курса доллара\n",
    "plt.figure(figsize=(10, 6))\n",
    "plt.plot(merged_data['date'],  merged_data['service_amount'], marker='o', linestyle='-', color='b')\n",
    "plt.title('Динамика изменения средней стоимости услуг за каждый месяц')\n",
    "plt.xlabel('Дата')\n",
    "plt.ylabel(' Стоимость услуг, руб.')\n",
    "plt.grid(True)\n",
    "plt.show()\n"
   ]
  },
  {
   "cell_type": "code",
   "execution_count": null,
   "metadata": {
    "ExecuteTime": {
     "end_time": "2023-11-11T12:24:33.629500Z",
     "start_time": "2023-11-11T12:24:33.253209Z"
    },
    "colab": {
     "base_uri": "https://localhost:8080/",
     "height": 573
    },
    "id": "7214OTO3pVi6",
    "outputId": "6be4968a-fc5c-43aa-a744-07a56d123279"
   },
   "outputs": [],
   "source": [
    "import matplotlib.pyplot as plt\n",
    "\n",
    "# Построение графика динамики курса доллара\n",
    "plt.figure(figsize=(10, 6))\n",
    "plt.plot(exchange_rate_data['date'], exchange_rate_data['close'], marker='o', linestyle='-', color='b')\n",
    "plt.title('Динамика курса доллара за каждый месяц')\n",
    "plt.xlabel('Дата')\n",
    "plt.ylabel('Курс доллара, руб.')\n",
    "plt.grid(True)\n",
    "plt.show()\n"
   ]
  },
  {
   "cell_type": "code",
   "execution_count": null,
   "metadata": {
    "ExecuteTime": {
     "end_time": "2023-11-11T12:24:34.280684Z",
     "start_time": "2023-11-11T12:24:33.631498Z"
    },
    "colab": {
     "base_uri": "https://localhost:8080/",
     "height": 727
    },
    "id": "l2u8WPMUqWUW",
    "outputId": "438c8934-6076-480e-ea10-e1ea56887ef7"
   },
   "outputs": [],
   "source": [
    "import matplotlib.pyplot as plt\n",
    "\n",
    "# Создание фигуры\n",
    "fig, ax1 = plt.subplots(figsize=(12, 8))\n",
    "\n",
    "# График динамики средней стоимости услуг за каждый месяц\n",
    "color = 'tab:blue'\n",
    "ax1.set_xlabel('Дата')\n",
    "ax1.set_ylabel('Стоимость услуг, руб.', color=color)\n",
    "ax1.plot(merged_data['date'], merged_data['service_amount'], marker='o', linestyle='-', color=color)\n",
    "ax1.tick_params(axis='y', labelcolor=color)\n",
    "\n",
    "# Создание второй оси y\n",
    "ax2 = ax1.twinx()\n",
    "color = 'tab:red'\n",
    "ax2.set_ylabel('Курс доллара, руб.', color=color)\n",
    "ax2.plot(exchange_rate_data['date'], exchange_rate_data['close'], marker='s', linestyle='--', color=color)\n",
    "ax2.tick_params(axis='y', labelcolor=color)\n",
    "\n",
    "# Добавление заголовка и сетки\n",
    "plt.title('Динамика изменения средней стоимости услуг и курса доллара за каждый месяц')\n",
    "plt.grid(True)\n",
    "\n",
    "# Отображение графика\n",
    "plt.show()\n"
   ]
  },
  {
   "cell_type": "markdown",
   "metadata": {
    "id": "VRhhqaXntFUG"
   },
   "source": [
    "### **Выводы по третьей гипотезе**"
   ]
  },
  {
   "cell_type": "markdown",
   "metadata": {
    "id": "lHmTuBWlr_2D"
   },
   "source": [
    "На основе результатов проверки гипотезы можно сделать следующие выводы:\n",
    "\n",
    "1. **Корреляция:**\n",
    "   - Значение корреляции между средней стоимостью услуг за каждый месяц и курсом доллара в период с 2021 по 2022 год равно -0.438.\n",
    "\n",
    "2. **Влияние на стоимость лечения:**\n",
    "   - Обратная зависимость указывает на то, что при увеличении курса доллара средняя стоимость услуг снижается.\n",
    "\n",
    "3. **Тенденция:**\n",
    "   - Таким образом, результаты говорят в пользу того, что повышение курса доллара коррелирует с уменьшением стоимости предоставляемых медицинских услуг.\n",
    "\n",
    "4. **Осторожность:**\n",
    "   - Однако, стоит отметить, что корреляция не всегда означает причинно-следственную связь, и другие факторы также могут влиять на стоимость лечения.\n",
    "\n",
    "Вывод: Гипотеза о влиянии роста курса доллара на повышение стоимости лечения **отвергается**. Наоборот, обратная зависимость указывает на возможное снижение стоимости медицинских услуг при увеличении курса доллара."
   ]
  },
  {
   "cell_type": "markdown",
   "metadata": {
    "id": "_lQLPfqRwoIQ"
   },
   "source": [
    "# **Исследовательский анализ (дополнение)**"
   ]
  },
  {
   "cell_type": "markdown",
   "metadata": {
    "id": "qfbbWYPpHhNz"
   },
   "source": [
    "## Количество уникальных клиентов? Сколько клиентов было в каждый год? Динамика клиентов по месяцам."
   ]
  },
  {
   "cell_type": "code",
   "execution_count": null,
   "metadata": {
    "ExecuteTime": {
     "end_time": "2023-11-11T12:24:34.288984Z",
     "start_time": "2023-11-11T12:24:34.281683Z"
    },
    "colab": {
     "base_uri": "https://localhost:8080/"
    },
    "id": "4GiYZ1JnHyLr",
    "outputId": "0438ba27-322a-40c6-9733-3653bc3bcbaa"
   },
   "outputs": [],
   "source": [
    "# подсчитаем уникальных клиентов\n",
    "df['insured'].nunique()"
   ]
  },
  {
   "cell_type": "markdown",
   "metadata": {
    "id": "ljjYKVU0IUyz"
   },
   "source": [
    "Всего 4488 уникальных клиентов обратились за 21-22 гг за услугами в медецинский центр."
   ]
  },
  {
   "cell_type": "code",
   "execution_count": null,
   "metadata": {
    "ExecuteTime": {
     "end_time": "2023-11-11T12:24:34.330466Z",
     "start_time": "2023-11-11T12:24:34.289985Z"
    },
    "colab": {
     "base_uri": "https://localhost:8080/"
    },
    "id": "XQzvRsveJRLc",
    "outputId": "85e50655-53c8-4f48-971f-0af8e8a02a44"
   },
   "outputs": [],
   "source": [
    "# Создайте новые столбцы для года и месяца\n",
    "df['year'] = df['service_date'].dt.year\n",
    "df['month'] = df['service_date'].dt.month\n",
    "\n",
    "# Группируйте данные по году и месяцу, а затем выполните агрегацию по уникальным клиентам\n",
    "result = df.groupby(['year', 'month'])['insured'].nunique().reset_index()\n",
    "\n",
    "# Результат будет содержать год, месяц и количество уникальных клиентов для каждой группы\n",
    "print(result)"
   ]
  },
  {
   "cell_type": "markdown",
   "metadata": {
    "id": "oykFCxmdMiIw"
   },
   "source": [
    "Посмотрим, какое количество уникальных клиентов было в каждый год:"
   ]
  },
  {
   "cell_type": "code",
   "execution_count": null,
   "metadata": {
    "ExecuteTime": {
     "end_time": "2023-11-11T12:24:34.537406Z",
     "start_time": "2023-11-11T12:24:34.331467Z"
    },
    "colab": {
     "base_uri": "https://localhost:8080/",
     "height": 573
    },
    "id": "CaL-LWqsNX-K",
    "outputId": "4dc55c97-7f35-4665-d17d-9be4f2451854"
   },
   "outputs": [],
   "source": [
    "# Сгруппируем данные по году, а затем выполним агрегацию по уникальным клиентам\n",
    "result_by_year = df.groupby(['year'])['insured'].nunique().reset_index()\n",
    "\n",
    "# создаем переменные и кладем в них года и количество\n",
    "years = result_by_year['year']\n",
    "total_clients = result_by_year['insured']\n",
    "\n",
    "# Строим столбчатую диаграмму\n",
    "plt.figure(figsize=(8, 6))\n",
    "plt.bar(years, total_clients, color=['blue', 'green'])\n",
    "plt.xlabel('Год')\n",
    "plt.ylabel('Количество уникальных клиентов')\n",
    "plt.title('Уникальные клиенты в 2021 и 2022 годах')\n",
    "plt.xticks(years)\n",
    "plt.grid(axis='x')\n",
    "\n",
    "# Добавление надписей с числом клиентов над столбцами\n",
    "for i, value in enumerate(total_clients):\n",
    "    plt.text(years[i], value + 20, str(value), ha='center')\n",
    "\n",
    "# Устанавливаем диапазон оси Y\n",
    "plt.ylim(2100, 2900)\n",
    "\n",
    "plt.show()\n"
   ]
  },
  {
   "cell_type": "markdown",
   "metadata": {
    "id": "qF3ZTg9iuU4u"
   },
   "source": [
    "Из графика видно, что количество клиентов в 22-ом было больше. \\\n",
    "Далее посмотрим относительное значение прироста клиентов в этом году."
   ]
  },
  {
   "cell_type": "code",
   "execution_count": null,
   "metadata": {
    "ExecuteTime": {
     "end_time": "2023-11-11T12:24:34.557532Z",
     "start_time": "2023-11-11T12:24:34.539404Z"
    },
    "colab": {
     "base_uri": "https://localhost:8080/"
    },
    "id": "IHtfc6lLs58f",
    "outputId": "2295b8f3-bab6-4ab8-9f6f-f61f1c775146"
   },
   "outputs": [],
   "source": [
    "# Создайте множества уникальных клиентов для 2021 и 2022 годов\n",
    "unique_clients_2021 = set(df[df['year'] == 2021]['insured'])\n",
    "unique_clients_2022 = set(df[df['year'] == 2022]['insured'])\n",
    "\n",
    "# Вычислите разницу в количестве уникальных клиентов\n",
    "difference = len(unique_clients_2022) - len(unique_clients_2021)\n",
    "\n",
    "# Выразите разницу в процентах относительно 2021 года\n",
    "percentage_difference = (difference / len(unique_clients_2021)) * 100\n",
    "\n",
    "# Выведите результат\n",
    "print(f'Разница в процентах в количестве уникальных клиентов между 2021 и 2022 годами: {percentage_difference:.2f}%')\n"
   ]
  },
  {
   "cell_type": "markdown",
   "metadata": {
    "id": "5MKKRDIPtmzD"
   },
   "source": [
    "На `9.62%` в 22-году клиентов было больше, чем в 21-ом."
   ]
  },
  {
   "cell_type": "markdown",
   "metadata": {
    "id": "_WE6na33JSKA"
   },
   "source": [
    "Далее, посмотрим количество уникальных клиентов по месяцам каждого года и выведем график динамики изменения."
   ]
  },
  {
   "cell_type": "code",
   "execution_count": null,
   "metadata": {
    "ExecuteTime": {
     "end_time": "2023-11-11T12:24:35.027669Z",
     "start_time": "2023-11-11T12:24:34.559529Z"
    },
    "colab": {
     "base_uri": "https://localhost:8080/",
     "height": 613
    },
    "id": "7kIzAu-pWLLu",
    "outputId": "cf303fc3-c64e-4533-8d6c-a341877b1862"
   },
   "outputs": [],
   "source": [
    "# Строим график динамики изменения количества уникальных клиентов\n",
    "plt.figure(figsize=(10, 6))\n",
    "plt.plot(result['year'].astype(str) + '-' + result['month'].astype(str), result['insured'], marker='o', label='Количество уникальных клиентов')\n",
    "plt.xlabel('Год-Месяц')\n",
    "plt.ylabel('Количество уникальных клиентов')\n",
    "plt.title('Динамика количества уникальных клиентов по месяцам и годам')\n",
    "plt.xticks(rotation=45)\n",
    "plt.grid(True)\n",
    "\n",
    "# Добавим метки значений для каждой точки\n",
    "for i, (year_month, count) in enumerate(zip(result['year'].astype(str) + '-' + result['month'].astype(str), result['insured'])):\n",
    "    plt.annotate(f'{count}', (year_month, count), textcoords=\"offset points\", xytext=(0, 15), ha='center')\n",
    "\n",
    "# Рассчитываем среднее и медианное значения, округляем их до целых\n",
    "average_value = round(np.mean(result['insured']))\n",
    "median_value = round(np.median(result['insured']))\n",
    "\n",
    "# Добавляем зеленую пунктирную линию для медианы\n",
    "plt.axhline(median_value, color='green', linestyle='--', label='Медиана')\n",
    "\n",
    "# Выводим округленное значение медианы слегка над линией медианы\n",
    "plt.text(result['year'].iloc[0].astype(str) + '-' + result['month'].iloc[0].astype(str), median_value + 18, f'{median_value}', ha='left')\n",
    "\n",
    "# Добавляем красную пунктирную линию среднего значения\n",
    "plt.axhline(average_value, color='red', linestyle='--', label='Среднее значение')\n",
    "\n",
    "# Выводим округленное значение среднего под линией среднего\n",
    "plt.text(result['year'].iloc[0].astype(str) + '-' + result['month'].iloc[0].astype(str), average_value - 25, f'{average_value}', ha='left')\n",
    "\n",
    "# Устанавливаем диапазон оси Y на основе введенного значения\n",
    "plt.ylim(200, 900)\n",
    "\n",
    "# Добавляем легенду в левом верхнем углу\n",
    "legend = plt.legend(loc='upper left')\n",
    "\n",
    "# Скрыть/показать легенду\n",
    "legend.set_visible(True)\n",
    "\n",
    "plt.show()"
   ]
  },
  {
   "cell_type": "markdown",
   "metadata": {
    "id": "j-SSnA8EItg2"
   },
   "source": [
    "Из графика видно, что количество клиентов плавно росло до февраля 2022 года, затем резко увеличилось. Пик роста пришёлся на май 2022 года (802 клиента), что практически в два раза больше, чем в мае 2021 года. После этого наблюдается резкий спад, который пришёлся на летний период. Количество клиентов сократилось до 359, что более чем в два раза меньше, чем максимальное значение в мае 2022 года.\n",
    "\n",
    "На графике также видно три пиковых значения: весной и осенью 2021 года, а также весной 2022 года. В эти периоды, возможно, заболевания становятся более распространенными. Зимой и летом, напротив, наблюдается спад. Можно сделать вывод, что в бизнесе существует сезонный фактор.\n"
   ]
  },
  {
   "cell_type": "code",
   "execution_count": null,
   "metadata": {
    "ExecuteTime": {
     "end_time": "2023-11-11T12:24:35.375432Z",
     "start_time": "2023-11-11T12:24:35.028671Z"
    },
    "colab": {
     "base_uri": "https://localhost:8080/",
     "height": 573
    },
    "id": "g6x7nOWsv0PG",
    "outputId": "860c1031-2b2a-471b-f984-267b0b413f82"
   },
   "outputs": [],
   "source": [
    "# Создайте список месяцев\n",
    "months = range(1, 13)\n",
    "\n",
    "# Создайте словарь для хранения количества уникальных клиентов по месяцам и годам\n",
    "unique_clients_by_month = {year: [] for year in df['year'].unique()}\n",
    "\n",
    "# Заполните словарь количеством уникальных клиентов для каждого месяца\n",
    "for year in df['year'].unique():\n",
    "    for month in months:\n",
    "        unique_clients_by_month[year].append(len(set(df[(df['year'] == year) & (df['month'] == month)]['insured'])))\n",
    "\n",
    "# Постройте столбчатую диаграмму\n",
    "fig, ax = plt.subplots(figsize=(12, 6))\n",
    "\n",
    "x = range(1, 13)  # 12 месяцев\n",
    "bar_width = 0.4\n",
    "\n",
    "# Отобразите количество уникальных клиентов для каждого года\n",
    "for year in df['year'].unique():\n",
    "    ax.bar(x, unique_clients_by_month[year], width=bar_width, label=str(year), align='center')\n",
    "    x = [i + bar_width for i in x]\n",
    "\n",
    "ax.set_xlabel('Месяц')\n",
    "ax.set_ylabel('Абсолютное значение')\n",
    "ax.set_title('Количество уникальных клиентов по месяцам для каждого года')\n",
    "ax.set_xticks([i - 0.2 for i in range(1, 13)])  # Добавляем смещение для более четкого отображения месяцев\n",
    "ax.set_xticklabels(['Янв', 'Фев', 'Мар', 'Апр', 'Май', 'Июн', 'Июл', 'Авг', 'Сен', 'Окт', 'Ноя', 'Дек'])\n",
    "ax.legend()\n",
    "\n",
    "# Добавляем сетку\n",
    "ax.grid(True, axis='y')\n",
    "\n",
    "plt.show()"
   ]
  },
  {
   "cell_type": "code",
   "execution_count": null,
   "metadata": {
    "ExecuteTime": {
     "end_time": "2023-11-11T12:24:35.765161Z",
     "start_time": "2023-11-11T12:24:35.377430Z"
    },
    "colab": {
     "base_uri": "https://localhost:8080/",
     "height": 573
    },
    "id": "OeRmyFGh0w7f",
    "outputId": "555141ad-16d1-4dc7-bc7f-7f149226e08a"
   },
   "outputs": [],
   "source": [
    "# Создайте список месяцев\n",
    "months = range(1, 13)\n",
    "\n",
    "# Создайте словарь для хранения количества уникальных клиентов по месяцам и годам\n",
    "unique_clients_by_month = {year: [] for year in df['year'].unique()}\n",
    "\n",
    "# Заполните словарь количеством уникальных клиентов для каждого месяца\n",
    "for year in df['year'].unique():\n",
    "    for month in months:\n",
    "        unique_clients_by_month[year].append(len(set(df[(df['year'] == year) & (df['month'] == month)]['insured'])))\n",
    "\n",
    "# Вычислите общее количество уникальных клиентов в каждом году\n",
    "total_clients_by_year = {year: len(set(df[df['year'] == year]['insured'])) for year in df['year'].unique()}\n",
    "\n",
    "# Постройте столбчатую диаграмму с относительными значениями и выводом значений\n",
    "fig, ax = plt.subplots(figsize=(12, 6))\n",
    "\n",
    "x = range(1, 13)  # 12 месяцев\n",
    "bar_width = 0.4\n",
    "\n",
    "# Отобразите относительное количество уникальных клиентов для каждого года\n",
    "for year in df['year'].unique():\n",
    "    relative_values = [count / total_clients_by_year[year] for count in unique_clients_by_month[year]]\n",
    "    ax.bar(x, relative_values, width=bar_width, label=str(year), align='center')\n",
    "\n",
    "    # Выведите значения на график\n",
    "    for i, val in enumerate(relative_values):\n",
    "        ax.text(x[i], val, f'{val:.2f}', ha='center', va='bottom')\n",
    "\n",
    "    x = [i + bar_width for i in x]\n",
    "\n",
    "ax.set_xlabel('Месяц')\n",
    "ax.set_ylabel('Относительное значение')\n",
    "ax.set_title('Доля уникальных клиентов по месяцам для каждого года')\n",
    "ax.set_xticks([i - 0.2 for i in range(1, 13)])  # Добавляем смещение для более четкого отображения месяцев\n",
    "ax.set_xticklabels(['Янв', 'Фев', 'Мар', 'Апр', 'Май', 'Июн', 'Июл', 'Авг', 'Сен', 'Окт', 'Ноя', 'Дек'])\n",
    "ax.legend()\n",
    "\n",
    "# Добавляем сетку\n",
    "ax.grid(True, axis='y')\n",
    "\n",
    "plt.show()\n"
   ]
  },
  {
   "cell_type": "markdown",
   "metadata": {
    "id": "ugFTOGwD9S7y"
   },
   "source": [
    "Видим, что в 22-м году рост клиентов был практически в каждом месяце на достаточно высоком уровне. Если провести расчет, то его среднее значение составит около 7% (за исключением месяцев без данных в 22-м году)."
   ]
  },
  {
   "cell_type": "markdown",
   "metadata": {
    "id": "xiRByr-s-pLf"
   },
   "source": [
    "## Динамика цен по каждой услуге\n"
   ]
  },
  {
   "cell_type": "code",
   "execution_count": null,
   "metadata": {
    "ExecuteTime": {
     "end_time": "2023-11-11T12:24:36.383413Z",
     "start_time": "2023-11-11T12:24:35.766161Z"
    },
    "colab": {
     "base_uri": "https://localhost:8080/",
     "height": 553
    },
    "id": "x4iHRWReu5LO",
    "outputId": "2d01fec4-084a-4e43-af44-5527d47deeb3"
   },
   "outputs": [],
   "source": [
    "df_copy = df.copy()\n",
    "# Определение топ-5 наименований услуг\n",
    "top5_services = df_copy['service_name'].value_counts().head(5).index\n",
    "\n",
    "# Замена всех других наименований на \"другие\" в копии датафрейма\n",
    "df_copy['service_name'] = df_copy['service_name'].apply(lambda x: x if x in top5_services else 'другие')\n",
    "\n",
    "# Группировка данных по году, месяцу, категории услуги и суммирование стоимости услуг\n",
    "services_by_month = df_copy.groupby(['year', 'month', 'service_name'])['service_amount'].sum()\n",
    "\n",
    "# Преобразование мультииндекса в DataFrame\n",
    "services_by_month = services_by_month.reset_index()\n",
    "\n",
    "# Создание графика\n",
    "plt.figure(figsize=(12, 6))\n",
    "for service, data in services_by_month.groupby('service_name'):\n",
    "    for year, year_data in data.groupby('year'):\n",
    "        # Создание меток для оси X, комбинируя год и месяц\n",
    "        month_labels = [f'{y}-{m:02}' for y, m in year_data[['year', 'month']].values]\n",
    "        plt.plot(month_labels, year_data['service_amount'] / 1e6, marker='o', label=f'{service}, {year}')\n",
    "\n",
    "plt.title('Динамика цен по топ-5 услугам и категории \"другие\"', fontsize=16)\n",
    "plt.xlabel('Год-Месяц')\n",
    "plt.ylabel('Стоимость услуг, млн. руб.')  # Добавление \"млн. руб.\" к подписи\n",
    "\n",
    "plt.xticks(rotation=45)\n",
    "plt.legend(loc='upper left', bbox_to_anchor=(1, 1))  # Смещение легенды вправо\n",
    "\n",
    "plt.grid(True, linestyle='--', alpha=0.7)\n",
    "\n",
    "# Ограничение оси Y до первой цифры\n",
    "plt.gca().yaxis.set_major_formatter(plt.FuncFormatter(lambda x, loc: \"{:0.0f}\".format(x)))\n",
    "\n",
    "plt.show()\n"
   ]
  },
  {
   "cell_type": "code",
   "execution_count": null,
   "metadata": {
    "ExecuteTime": {
     "end_time": "2023-11-11T12:24:37.008072Z",
     "start_time": "2023-11-11T12:24:36.384463Z"
    },
    "colab": {
     "base_uri": "https://localhost:8080/",
     "height": 541
    },
    "id": "5jaFxeqdyTZF",
    "outputId": "777e13a7-0abd-465d-8bf1-de5f6761f21a"
   },
   "outputs": [],
   "source": [
    "# Определение топ-5 наименований услуг\n",
    "top5_services = df_copy['service_name'].value_counts().head(5).index\n",
    "\n",
    "# Замена всех других наименований на \"другие\" в копии датафрейма\n",
    "df_copy['service_name'] = df_copy['service_name'].apply(lambda x: x if x in top5_services else 'другие')\n",
    "\n",
    "# Группировка данных по году, месяцу, категории услуги и суммирование стоимости услуг\n",
    "services_by_month = df_copy.groupby(['year', 'month', 'service_name'])['service_amount'].mean()\n",
    "\n",
    "# Преобразование мультииндекса в DataFrame\n",
    "services_by_month = services_by_month.reset_index()\n",
    "\n",
    "# Создание графика\n",
    "plt.figure(figsize=(12, 6))\n",
    "for service, data in services_by_month.groupby('service_name'):\n",
    "    for year, year_data in data.groupby('year'):\n",
    "        # Создание меток для оси X, комбинируя год и месяц\n",
    "        month_labels = [f'{y}-{m:02}' for y, m in year_data[['year', 'month']].values]\n",
    "        plt.plot(month_labels, year_data['service_amount'], marker='o', label=f'{service}, {year}')\n",
    "\n",
    "plt.title('Динамика цен по топ-5 услугам и категории \"другие\"')\n",
    "plt.xlabel('Год-Месяц')\n",
    "plt.ylabel('Стоимость услуг, руб.')  # Добавление \"млн. руб.\" к подписи\n",
    "\n",
    "plt.xticks(rotation=45)\n",
    "plt.legend(loc='upper left', bbox_to_anchor=(1, 1))  # Смещение легенды вправо\n",
    "\n",
    "plt.grid(True, linestyle='--', alpha=0.7)\n",
    "\n",
    "# Ограничение оси Y до первой цифры\n",
    "plt.gca().yaxis.set_major_formatter(plt.FuncFormatter(lambda x, loc: \"{:0.0f}\".format(x)))\n",
    "\n",
    "plt.show()\n"
   ]
  },
  {
   "cell_type": "code",
   "execution_count": null,
   "metadata": {
    "ExecuteTime": {
     "end_time": "2023-11-11T12:24:37.539552Z",
     "start_time": "2023-11-11T12:24:37.009072Z"
    },
    "colab": {
     "base_uri": "https://localhost:8080/",
     "height": 541
    },
    "id": "yl5JZUhczenP",
    "outputId": "d09a04aa-b2c2-4e1b-af9e-70daf8024b5f"
   },
   "outputs": [],
   "source": [
    "# Определение топ-5 наименований услуг\n",
    "top5_services = df_copy['service_name'].value_counts().head(10).index\n",
    "\n",
    "# Замена всех других наименований на \"другие\" в копии датафрейма\n",
    "df_copy['service_name'] = df_copy['service_name'].apply(lambda x: x if x in top5_services else 'другие')\n",
    "\n",
    "# Группировка данных по году, месяцу, категории услуги и суммирование стоимости услуг\n",
    "services_by_month = df_copy.groupby(['year', 'month', 'service_name'])['service_amount'].mean()\n",
    "\n",
    "# Преобразование мультииндекса в DataFrame\n",
    "services_by_month = services_by_month.reset_index()\n",
    "\n",
    "# Создание графика\n",
    "plt.figure(figsize=(12, 6))\n",
    "for service, data in services_by_month.groupby('service_name'):\n",
    "    for year, year_data in data.groupby('year'):\n",
    "        # Создание меток для оси X, комбинируя год и месяц\n",
    "        month_labels = [f'{y}-{m:02}' for y, m in year_data[['year', 'month']].values]\n",
    "        plt.plot(month_labels, year_data['service_amount'], marker='o', label=f'{service}, {year}')\n",
    "\n",
    "plt.title('Динамика цен по топ-5 услугам и категории \"другие\"')\n",
    "plt.xlabel('Год-Месяц')\n",
    "plt.ylabel('Стоимость услуг, руб.')  # Добавление \"млн. руб.\" к подписи\n",
    "\n",
    "plt.xticks(rotation=45)\n",
    "plt.legend(loc='upper left', bbox_to_anchor=(1, 1))  # Смещение легенды вправо\n",
    "\n",
    "plt.grid(True, linestyle='--', alpha=0.7)\n",
    "\n",
    "# Ограничение оси Y до первой цифры\n",
    "plt.gca().yaxis.set_major_formatter(plt.FuncFormatter(lambda x, loc: \"{:0.0f}\".format(x)))\n",
    "\n",
    "plt.show()\n"
   ]
  },
  {
   "cell_type": "markdown",
   "metadata": {
    "id": "ZP4yg67sOxjW"
   },
   "source": [
    "## Сколько услуг оказано в каждом году? Какое количество услуг приходится на каждого клиента? Распределение количества услуг по клиентам.\n",
    "\n"
   ]
  },
  {
   "cell_type": "code",
   "execution_count": null,
   "metadata": {
    "ExecuteTime": {
     "end_time": "2023-11-11T12:24:37.545760Z",
     "start_time": "2023-11-11T12:24:37.540552Z"
    },
    "colab": {
     "base_uri": "https://localhost:8080/"
    },
    "id": "FQh6gVp629PI",
    "outputId": "a832bd58-2006-4fa5-dc96-595c202c0269"
   },
   "outputs": [],
   "source": [
    "# Подсчитаем общее количество\n",
    "print('Общее количество оказанных услуг:', df['service_number'].sum(), '(100%)')"
   ]
  },
  {
   "cell_type": "markdown",
   "metadata": {
    "id": "JQ_oCUIT9Ei8"
   },
   "source": [
    "\n",
    "Далее, посмотрим количество услуг по каждому месяцу каждого года. Для этого постром столбчатую диаграмму, чтобы сравнить месяц к месяцу."
   ]
  },
  {
   "cell_type": "code",
   "execution_count": null,
   "metadata": {
    "ExecuteTime": {
     "end_time": "2023-11-11T12:24:37.747989Z",
     "start_time": "2023-11-11T12:24:37.546760Z"
    },
    "colab": {
     "base_uri": "https://localhost:8080/",
     "height": 596
    },
    "id": "lEoefGOa4hjK",
    "outputId": "0e29ea7c-d4ce-4896-ab50-412694d50c1e"
   },
   "outputs": [],
   "source": [
    "# Группировка данных по году и суммирование количества услуг\n",
    "services_by_year = df.groupby('year')['service_number'].sum()\n",
    "\n",
    "# Построение столбчатой диаграммы\n",
    "plt.figure(figsize=(10, 6))\n",
    "services_by_year.plot(kind='bar', color='skyblue')\n",
    "plt.title('Общее количество услуг по годам')\n",
    "plt.xlabel('Год')\n",
    "plt.ylabel('Количество услуг')\n",
    "plt.xticks(rotation=45)\n",
    "plt.grid(axis='x')\n",
    "\n",
    "# Добавление надписей с числом услуг и их долей над столбцами\n",
    "for i, value in enumerate(services_by_year):\n",
    "    percent = (value / services_by_year.sum()) * 100\n",
    "    label = f'{value} ({percent:.2f}%)'\n",
    "    plt.text(i, value + 20, label, ha='center')\n",
    "\n",
    "# Устанавливаем диапазон оси Y\n",
    "plt.ylim(38000, 48000)\n",
    "\n",
    "plt.show()\n"
   ]
  },
  {
   "cell_type": "markdown",
   "metadata": {
    "id": "L5nEBdq35y3W"
   },
   "source": [
    "Интересно то, что в 2022 году было клиетов больше, но доля оказанных услуг на 4% меньше."
   ]
  },
  {
   "cell_type": "markdown",
   "metadata": {
    "id": "e4qrFJq1lza6"
   },
   "source": [
    "Посмотрим динамику количества оказанных услуг по месяцам каждого года:"
   ]
  },
  {
   "cell_type": "code",
   "execution_count": null,
   "metadata": {
    "ExecuteTime": {
     "end_time": "2023-11-11T12:24:38.091821Z",
     "start_time": "2023-11-11T12:24:37.748988Z"
    },
    "colab": {
     "base_uri": "https://localhost:8080/",
     "height": 613
    },
    "id": "EvDOHMsFXTHM",
    "outputId": "92715ece-db29-4fcb-df5b-1ea2ef6102a3"
   },
   "outputs": [],
   "source": [
    "# Импорт библиотек\n",
    "import pandas as pd\n",
    "import matplotlib.pyplot as plt\n",
    "\n",
    "# Группировка данных по столбцам \"year\" и \"month\" и подсчет количества услуг\n",
    "services_by_month = df.groupby(['year', 'month'])['service_number'].sum()\n",
    "\n",
    "# Преобразование мультииндекса в DataFrame\n",
    "services_by_month = services_by_month.reset_index()\n",
    "\n",
    "# Создание графика\n",
    "plt.figure(figsize=(12, 6))\n",
    "plt.plot(services_by_month['year'].astype(str) + '-' + services_by_month['month'].astype(str), services_by_month['service_number'], marker='o')\n",
    "plt.title('Количество услуг по месяцам каждого года')\n",
    "plt.xlabel('Год-Месяц')\n",
    "plt.ylabel('Количество услуг')\n",
    "plt.xticks(rotation=45)\n",
    "\n",
    "plt.grid(True, linestyle='--', alpha=0.7)\n",
    "plt.show()\n"
   ]
  },
  {
   "cell_type": "markdown",
   "metadata": {
    "id": "wXMqZpBrZ4Z-"
   },
   "source": [
    "Данный график коррелирует с динамикой клиентов. Рост клиентской базы соответственно влияет на увеличение оказанных услуг. На графике видны два ярко выраженных пика: октябрь 2021 года и апрель 2022 года."
   ]
  },
  {
   "cell_type": "markdown",
   "metadata": {
    "id": "fqOnGVgg9hgQ"
   },
   "source": [
    "Далее, посмотрим количество услуг по каждому клиенту и распределение количества услуг:"
   ]
  },
  {
   "cell_type": "code",
   "execution_count": null,
   "metadata": {
    "ExecuteTime": {
     "end_time": "2023-11-11T12:24:38.100925Z",
     "start_time": "2023-11-11T12:24:38.093820Z"
    },
    "colab": {
     "base_uri": "https://localhost:8080/"
    },
    "id": "_sKVFgTqQcph",
    "outputId": "6b8bdd71-504f-4ffd-98b8-7a6a4161f474"
   },
   "outputs": [],
   "source": [
    "# Группировка данных по столбцу \"insured\" и подсчет количества услуг\n",
    "services_per_client = df.groupby('insured')['service_number'].sum()\n",
    "\n",
    "# Вывод таблицы\n",
    "print(services_per_client.sort_values(ascending=False))\n"
   ]
  },
  {
   "cell_type": "markdown",
   "metadata": {
    "id": "XJw_5-35k_JW"
   },
   "source": [
    "Есть клиенты, которым за два года было оказано более 200 услуг, а одному даже более 300.\n",
    "\n",
    "Посмотрим, какое среднее количество услуг пиходится на одного клиента за все время. Для этого построим гистаграмму расперделения:\n"
   ]
  },
  {
   "cell_type": "code",
   "execution_count": null,
   "metadata": {
    "ExecuteTime": {
     "end_time": "2023-11-11T12:24:38.479241Z",
     "start_time": "2023-11-11T12:24:38.102923Z"
    },
    "colab": {
     "base_uri": "https://localhost:8080/",
     "height": 573
    },
    "id": "Heu47MrpUMmT",
    "outputId": "ed31e45b-4dae-45bd-d991-91bbe867787d"
   },
   "outputs": [],
   "source": [
    "# Группировка данных по столбцу \"insured\" и подсчет количества услуг\n",
    "services_per_client = df.groupby('insured')['service_number'].sum()\n",
    "\n",
    "# Построение гистограммы\n",
    "plt.figure(figsize=(10, 6))\n",
    "n, bins, patches = plt.hist(services_per_client, bins=66, edgecolor='k')\n",
    "plt.title('Распределение количества услуг по клиентам за все время')\n",
    "plt.xlabel('Количество услуг')\n",
    "plt.ylabel('Количество клиентов')\n",
    "\n",
    "# Добавление сетки\n",
    "plt.grid(True, linestyle='--', alpha=0.7)\n",
    "\n",
    "# Вычисление среднего и медианного значений\n",
    "mean_services = services_per_client.mean()\n",
    "median_services = services_per_client.median()\n",
    "\n",
    "# Добавление вертикальных линий для среднего и медианного значений с подписями\n",
    "plt.axvline(mean_services, color='r', linestyle='--', label=f'Среднее: {mean_services:.2f}')\n",
    "plt.axvline(median_services, color='b', linestyle='--', label=f'Медианное: {median_services:.2f}')\n",
    "plt.legend()\n",
    "\n",
    "# Добавление возможности изменения диапазона на оси X и Y\n",
    "plt.ylim(0, 1750)\n",
    "plt.xlim(0, 100)\n",
    "\n",
    "plt.show()"
   ]
  },
  {
   "cell_type": "markdown",
   "metadata": {
    "id": "1mUoP8Uyj0X8"
   },
   "source": [
    "Учитывая наличие выбросов в данных, например, случаи, когда одному человеку оказывалось более 300 услуг, рекомендуется ориентироваться на медианное значение, которое составляет 10. Это означает, что в среднем на одного человека приходится 10 услуг. Медиана представляет собой более устойчивую метрику для анализа, поскольку она меньше подвержена воздействию аномалий и выбросов в данных."
   ]
  },
  {
   "cell_type": "markdown",
   "metadata": {
    "id": "LbrSBAtlmGrl"
   },
   "source": [
    "## Топ-10 популярных услуг\n"
   ]
  },
  {
   "cell_type": "code",
   "execution_count": null,
   "metadata": {
    "ExecuteTime": {
     "end_time": "2023-11-11T12:24:38.490703Z",
     "start_time": "2023-11-11T12:24:38.481239Z"
    },
    "colab": {
     "base_uri": "https://localhost:8080/"
    },
    "id": "s2SAwGAM_9IR",
    "outputId": "09ffd67c-7f00-4e2c-bbb9-dac2ac3dd16b"
   },
   "outputs": [],
   "source": [
    "# Получаем частоту каждой услуги\n",
    "df['service_name'].value_counts().head(10)\n"
   ]
  },
  {
   "cell_type": "markdown",
   "metadata": {
    "id": "LrD10SqvwSXQ"
   },
   "source": [
    "Посмотрим, сколько вообще уникальных услуг:"
   ]
  },
  {
   "cell_type": "code",
   "execution_count": null,
   "metadata": {
    "ExecuteTime": {
     "end_time": "2023-11-11T12:24:38.529142Z",
     "start_time": "2023-11-11T12:24:38.492702Z"
    },
    "colab": {
     "base_uri": "https://localhost:8080/"
    },
    "id": "JYfGeTMRwYiA",
    "outputId": "644a7ecf-6e6a-4ccd-aca5-ee6f9e7107c5"
   },
   "outputs": [],
   "source": [
    "# Получаем уникальное количество услуг\n",
    "print('Клиника оказывает',df['service_name'].nunique(), 'уникальных услуг.')"
   ]
  },
  {
   "cell_type": "markdown",
   "metadata": {
    "id": "x1qpL7GXxuQS"
   },
   "source": [
    "Помстроим столбчатую диаграмму и посмотрим количество уникальных наименований услуг по годам:"
   ]
  },
  {
   "cell_type": "code",
   "execution_count": null,
   "metadata": {
    "ExecuteTime": {
     "end_time": "2023-11-11T12:24:38.768353Z",
     "start_time": "2023-11-11T12:24:38.532140Z"
    },
    "colab": {
     "base_uri": "https://localhost:8080/",
     "height": 612
    },
    "id": "SFc41z6IzbsJ",
    "outputId": "7cd093fc-9048-429f-8f27-0a4f64fe7506"
   },
   "outputs": [],
   "source": [
    "import matplotlib.pyplot as plt\n",
    "\n",
    "# Фильтрация данных по году\n",
    "df_2021 = df[df['year'] == 2021]\n",
    "df_2022 = df[df['year'] == 2022]\n",
    "\n",
    "# Нахождение уникального количества услуг для каждого года\n",
    "unique_services_2021 = df_2021['service_name'].nunique()\n",
    "unique_services_2022 = df_2022['service_name'].nunique()\n",
    "\n",
    "# Нахождение общего количества уникальных услуг\n",
    "total_unique_services = df['service_name'].nunique()\n",
    "\n",
    "# Создание столбчатой диаграммы\n",
    "years = [2021, 2022]\n",
    "unique_services = [unique_services_2021, unique_services_2022]\n",
    "\n",
    "plt.figure(figsize=(10, 6))\n",
    "plt.bar(years, unique_services, color='skyblue')\n",
    "plt.title('Количество уникальных наименований услуг в 2021 и 2022 годах')\n",
    "plt.xlabel('Год')\n",
    "plt.ylabel('Количество наименований услуг')\n",
    "plt.xticks(years)\n",
    "plt.xticks(rotation=45)\n",
    "plt.grid(axis='x')\n",
    "\n",
    "# Добавление значений над столбцами\n",
    "for i, value in enumerate(unique_services):\n",
    "    percent = (value / total_unique_services) * 100\n",
    "    label = f'{value} ({percent:.2f}%)'\n",
    "    plt.text(years[i], value + 1, label, ha='center')\n",
    "\n",
    "# Добавление возможности изменения диапазона на оси Y\n",
    "plt.ylim(600, 775)\n",
    "\n",
    "plt.show()\n",
    "\n",
    "# Вывод общего количества уникальных услуг\n",
    "print('Клиника оказывает', total_unique_services, 'уникальных услуг.')\n"
   ]
  },
  {
   "cell_type": "code",
   "execution_count": null,
   "metadata": {
    "ExecuteTime": {
     "end_time": "2023-11-11T12:24:39.182090Z",
     "start_time": "2023-11-11T12:24:38.770351Z"
    },
    "colab": {
     "base_uri": "https://localhost:8080/",
     "height": 573
    },
    "id": "RwHmJAXL7pDt",
    "outputId": "b2b87c89-41cb-4e20-fe06-627fc0d8cc75"
   },
   "outputs": [],
   "source": [
    "import matplotlib.pyplot as plt\n",
    "\n",
    "# Топ 10 услуг в 2021 и 2022 годах\n",
    "top_10_services_2021 = df_2021['service_name'].value_counts().head(10)\n",
    "top_10_services_2022 = df_2022['service_name'].value_counts().head(10)\n",
    "\n",
    "# Сортировка данных по убыванию\n",
    "top_10_services_2021 = top_10_services_2021.sort_values(ascending=True)\n",
    "top_10_services_2022 = top_10_services_2022.sort_values(ascending=True)\n",
    "\n",
    "# Создание диаграммы\n",
    "fig, ax = plt.subplots(figsize=(10, 6))\n",
    "\n",
    "# Установка ширины столбцов\n",
    "bar_width = 0.35\n",
    "\n",
    "# Положение для каждой группы столбцов\n",
    "y = range(len(top_10_services_2021))\n",
    "\n",
    "# Построение столбцов для 2022 года\n",
    "bar_2022 = ax.barh([i + bar_width for i in y], top_10_services_2022, height=bar_width, label='2022', color='lightcoral')\n",
    "\n",
    "# Построение столбцов для 2021 года\n",
    "bar_2021 = ax.barh(y, top_10_services_2021, height=bar_width, label='2021', color='skyblue')\n",
    "\n",
    "# Настройка осей и заголовка\n",
    "ax.set_ylabel('Топ-10 услуг')\n",
    "ax.set_xlabel('Количество услуг')\n",
    "ax.set_title('Сравнение Топ-10 услуг в 2021 и 2022 годах (по убыванию)')\n",
    "ax.set_yticks([i + bar_width / 2 for i in y])\n",
    "ax.set_yticklabels(top_10_services_2021.index)\n",
    "ax.legend()\n",
    "\n",
    "# Вывод значений рядом со столбцами\n",
    "for bar in bar_2021 + bar_2022:\n",
    "    width = bar.get_width()\n",
    "    ax.annotate(f'{width}', xy=(width, bar.get_y() + bar.get_height() / 2), xytext=(6, 0), textcoords='offset points', va='center')\n",
    "\n",
    "# Добавление возможности изменения диапазона на оси X\n",
    "plt.xlim(0, 7500)\n",
    "\n",
    "plt.show()\n"
   ]
  },
  {
   "cell_type": "code",
   "execution_count": null,
   "metadata": {
    "ExecuteTime": {
     "end_time": "2023-11-11T12:24:39.596181Z",
     "start_time": "2023-11-11T12:24:39.183090Z"
    },
    "colab": {
     "base_uri": "https://localhost:8080/",
     "height": 573
    },
    "id": "Tc_O5-lB-9Yc",
    "outputId": "6ce46a03-8964-4f3e-93ad-dd4696755853"
   },
   "outputs": [],
   "source": [
    "import matplotlib.pyplot as plt\n",
    "\n",
    "# Топ 10 услуг в 2021 и 2022 годах\n",
    "top_10_services_2021 = df_2021['service_name'].value_counts().head(10)\n",
    "top_10_services_2022 = df_2022['service_name'].value_counts().head(10)\n",
    "\n",
    "# Сортировка данных по убыванию\n",
    "top_10_services_2021 = top_10_services_2021.sort_values(ascending=True)\n",
    "top_10_services_2022 = top_10_services_2022.sort_values(ascending=True)\n",
    "\n",
    "# Создание диаграммы\n",
    "fig, ax = plt.subplots(figsize=(10, 6))\n",
    "\n",
    "# Установка ширины столбцов\n",
    "bar_width = 0.35\n",
    "\n",
    "# Положение для каждой группы столбцов\n",
    "y = range(len(top_10_services_2021))\n",
    "\n",
    "# Построение столбцов для 2022 года\n",
    "bar_2022 = ax.barh([i + bar_width for i in y], top_10_services_2022, height=bar_width, label='2022', color='lightcoral')\n",
    "\n",
    "# Построение столбцов для 2021 года\n",
    "bar_2021 = ax.barh(y, top_10_services_2021, height=bar_width, label='2021', color='skyblue')\n",
    "\n",
    "# Настройка осей и заголовка\n",
    "ax.set_ylabel('Топ-10 услуг')\n",
    "ax.set_xlabel('Количество услуг')\n",
    "ax.set_title('Сравнение Топ-10 услуг в 2021 и 2022 годах (по убыванию)')\n",
    "ax.set_yticks([i + bar_width / 2 for i in y])\n",
    "ax.set_yticklabels(top_10_services_2021.index)\n",
    "ax.legend()\n",
    "\n",
    "# Вывод значений рядом со столбцами\n",
    "for i, (bar1, bar2) in enumerate(zip(bar_2021, bar_2022)):\n",
    "    width1 = bar1.get_width()\n",
    "    width2 = bar2.get_width()\n",
    "    ax.annotate(f'{width2} ({((width2 - width1) / width1) * 100:.2f}%)', xy=(width2, bar2.get_y() + bar2.get_height() / 2), xytext=(6, 0), textcoords='offset points', va='center')\n",
    "    ax.annotate(f'{width2}', xy=(width2, bar2.get_y() + bar2.get_height() / 2), xytext=(6, 0), textcoords='offset points', va='center')\n",
    "# Добавление возможности изменения диапазона на оси X\n",
    "plt.xlim(0, 7500)\n",
    "\n",
    "plt.show()\n"
   ]
  },
  {
   "cell_type": "markdown",
   "metadata": {
    "id": "HdpeJCLr48E4"
   },
   "source": [
    "Определим доли часто встречающихся наименования (топ-10 + \"другие\"):"
   ]
  },
  {
   "cell_type": "code",
   "execution_count": null,
   "metadata": {
    "ExecuteTime": {
     "end_time": "2023-11-11T12:24:39.972646Z",
     "start_time": "2023-11-11T12:24:39.597182Z"
    },
    "colab": {
     "base_uri": "https://localhost:8080/",
     "height": 532
    },
    "id": "oFPBNXQsaeWn",
    "outputId": "d17b0629-c8bd-4992-c286-bd598106117f"
   },
   "outputs": [],
   "source": [
    "import matplotlib.pyplot as plt\n",
    "\n",
    "# Создание копии датафрейма\n",
    "df_copy = df.copy()\n",
    "\n",
    "# Определение топ-10 наименований услуг\n",
    "top_services = df_copy['service_name'].value_counts().head(10).index\n",
    "\n",
    "# Замена всех других наименований на \"другие\" в копии датафрейма\n",
    "df_copy['service_name'] = df_copy['service_name'].apply(lambda x: x if x in top_services else 'другие')\n",
    "\n",
    "# Группировка данных по наименованию услуг и подсчет количества записей\n",
    "service_counts = df_copy['service_name'].value_counts()\n",
    "\n",
    "# Построение круговой диаграммы с расстоянием между процентами и названиями\n",
    "plt.figure(figsize=(6, 6))\n",
    "plt.pie(service_counts, labels=[''] * len(service_counts), autopct='%1.1f%%', pctdistance=1.1,\n",
    "        labeldistance=1.2, startangle=332, textprops={'fontsize': 10}, counterclock=False)\n",
    "plt.title('Доля каждого наименования услуги', y=1.02, fontsize=16)\n",
    "\n",
    "# Создание легенды\n",
    "plt.legend(service_counts.index, title=\"Наименование услуги\", bbox_to_anchor=(1.05, 1), loc='upper left')\n",
    "\n",
    "plt.show()\n"
   ]
  },
  {
   "cell_type": "markdown",
   "metadata": {
    "id": "SXKH9m5lsxsd"
   },
   "source": [
    "Из графика круговой диаграммы видно, что популярными услугами являются первичные и вторичные приемы, а также услуги, связанные с анализом крови. Общая доля этих четырех услуг составляет почти 21% (1/5 часть).\n",
    "\n",
    "Посмотрим, какие услуги были популярны в 2021 году, а какие в 2022 году:"
   ]
  },
  {
   "cell_type": "code",
   "execution_count": null,
   "metadata": {
    "ExecuteTime": {
     "end_time": "2023-11-11T12:24:39.991815Z",
     "start_time": "2023-11-11T12:24:39.974643Z"
    },
    "colab": {
     "base_uri": "https://localhost:8080/"
    },
    "id": "dL5SPhREBbcO",
    "outputId": "7843925b-2da0-46a5-8d30-b5e455c89da4"
   },
   "outputs": [],
   "source": [
    "# Фильтрация данных для 2021 года\n",
    "data_2021 = df[df['year'] == 2021]\n",
    "\n",
    "# Фильтрация данных для 2022 года\n",
    "data_2022 = df[df['year'] == 2022]\n",
    "\n",
    "# Топ 10 услуг в 2021 году\n",
    "top_10_services_2021 = data_2021['service_name'].value_counts().head(10)\n",
    "\n",
    "# Топ 10 услуг в 2022 году\n",
    "top_10_services_2022 = data_2022['service_name'].value_counts().head(10)\n",
    "\n",
    "# Вывод таблицы для 2021 и 2022 годов\n",
    "print(\"Топ 10 услуг в 2021 году:\")\n",
    "print(top_10_services_2021)\n",
    "\n",
    "print(\"\\nТоп 10 услуг в 2022 году:\")\n",
    "print(top_10_services_2022)\n"
   ]
  },
  {
   "cell_type": "code",
   "execution_count": null,
   "metadata": {
    "ExecuteTime": {
     "end_time": "2023-11-11T12:24:40.442008Z",
     "start_time": "2023-11-11T12:24:39.993813Z"
    },
    "colab": {
     "base_uri": "https://localhost:8080/",
     "height": 961
    },
    "id": "z4yYLOrZJHbH",
    "outputId": "ab523ddb-71e7-4bc5-e4e5-61365e9bf6db"
   },
   "outputs": [],
   "source": [
    "# Фильтрация данных для 2021 и 2022 годов\n",
    "data_2021 = df[df['year'] == 2021]\n",
    "data_2022 = df[df['year'] == 2022]\n",
    "\n",
    "# Получение топ 10 услуг для каждого года, отсортированных по убыванию\n",
    "top_10_services_2021 = data_2021['service_name'].value_counts().head(10)\n",
    "top_10_services_2022 = data_2022['service_name'].value_counts().head(10)\n",
    "\n",
    "# Создание графиков для 2021 и 2022 годов\n",
    "fig, axs = plt.subplots(2, 1, figsize=(8, 12))\n",
    "\n",
    "# Построение круговых диаграмм для 2021 и 2022 годов\n",
    "axs[0].pie(top_10_services_2021, labels=None, autopct='%1.1f%%', pctdistance=0.75, startangle=100, counterclock=False)\n",
    "axs[0].set_title('Доля услуг в 2021 году', y=0.9, fontsize=16)  # Установка позиции и размера заголовка\n",
    "axs[1].pie(top_10_services_2022, labels=None, autopct='%1.1f%%', pctdistance=0.70, startangle=100, counterclock=False)\n",
    "axs[1].set_title('Доля услуг в 2022 году', y=0.9, fontsize=16)  # Установка позиции и размера заголовка\n",
    "\n",
    "# Добавление легенд\n",
    "axs[0].legend(top_10_services_2021.index, title='Топ-10 услуг:', loc=\"center left\", bbox_to_anchor=(1, 0, 0.5, 1))\n",
    "axs[1].legend(top_10_services_2022.index, title='Топ-10 услуг:', loc=\"center left\", bbox_to_anchor=(1, 0, 0.5, 1))\n",
    "\n",
    "# Установка вертикального расстояния между графиками\n",
    "plt.subplots_adjust(hspace=-0.05)\n",
    "\n",
    "plt.show()\n"
   ]
  },
  {
   "cell_type": "code",
   "execution_count": null,
   "metadata": {
    "ExecuteTime": {
     "end_time": "2023-11-11T12:24:41.502136Z",
     "start_time": "2023-11-11T12:24:40.444007Z"
    },
    "colab": {
     "base_uri": "https://localhost:8080/",
     "height": 542
    },
    "id": "OX8OCGYRgJ8w",
    "outputId": "86e94404-44a0-4433-80d8-097d74a254ac"
   },
   "outputs": [],
   "source": [
    "# Импорт библиотек\n",
    "import pandas as pd\n",
    "import plotly.express as px\n",
    "\n",
    "# Группировка данных по наименованию услуги и суммирование стоимости услуг\n",
    "services_total_revenue = df.groupby('service_name')['service_amount'].sum().reset_index()\n",
    "\n",
    "# Вычисление общей суммы выручки\n",
    "total_revenue = services_total_revenue['service_amount'].sum()\n",
    "\n",
    "# Вычисление доли от общей выручки для каждой услуги\n",
    "services_total_revenue['revenue_percentage'] = (services_total_revenue['service_amount'] / total_revenue)\n",
    "\n",
    "# Определение топ-10 наименований услуг\n",
    "top_services = df['service_name'].value_counts().head(10).index\n",
    "\n",
    "# Фильтрация данных только для топ-10 услуг\n",
    "top_services_data = services_total_revenue[services_total_revenue['service_name'].isin(top_services)]\n",
    "\n",
    "# Создание пузырьковой диаграммы только для топ-10, но с долями от общей выручки\n",
    "fig = px.scatter(top_services_data, x='service_name', y='service_amount',\n",
    "                 size='service_amount', title='Выручка по топ-10 услугам',\n",
    "                 labels={'service_name': 'Услуга', 'service_amount': 'Выручка', 'revenue_percentage': 'Доля от общей выручки'},\n",
    "                 size_max=70)  # Здесь вы можете настроить размер кругов\n",
    "\n",
    "# Добавление подписей значений долей\n",
    "for i, row in top_services_data.iterrows():\n",
    "    fig.add_annotation(x=row['service_name'], y=row['service_amount'],\n",
    "                       text=f'{row[\"revenue_percentage\"]*100:.2f}%', showarrow=False, font=dict(size=10))\n",
    "\n",
    "fig.update_traces(textfont=dict(size=8, color='rgba(0,0,0,0)'))\n",
    "\n",
    "fig.show()\n"
   ]
  },
  {
   "cell_type": "code",
   "execution_count": null,
   "metadata": {
    "ExecuteTime": {
     "end_time": "2023-11-11T12:24:41.605649Z",
     "start_time": "2023-11-11T12:24:41.504135Z"
    },
    "colab": {
     "base_uri": "https://localhost:8080/",
     "height": 542
    },
    "id": "WYZCRwCbi-qc",
    "outputId": "9c03d32b-aff2-46e7-ca5c-8f39d3e870f7"
   },
   "outputs": [],
   "source": [
    "# Группировка данных по наименованию услуги и суммирование стоимости услуг\n",
    "services_total_revenue = df.groupby('service_name')['service_amount'].sum().reset_index()\n",
    "\n",
    "# Вычисление общей суммы выручки\n",
    "total_revenue = services_total_revenue['service_amount'].sum()\n",
    "\n",
    "# Вычисление доли от общей выручки для каждой услуги\n",
    "services_total_revenue['revenue_percentage'] = (services_total_revenue['service_amount'] / total_revenue)\n",
    "\n",
    "# Определение топ-10 наименований услуг\n",
    "top_services = df['service_name'].value_counts().head(10).index\n",
    "\n",
    "# Фильтрация данных только для топ-10 услуг\n",
    "top_services_data = services_total_revenue[services_total_revenue['service_name'].isin(top_services)]\n",
    "\n",
    "# Создание пузырьковой диаграммы только для топ-10, но с долями от общей выручки\n",
    "fig = px.scatter(top_services_data, x='service_name', y='service_amount',\n",
    "                 size='service_amount', title='Выручка по топ-10 услугам',\n",
    "                 labels={'service_name': 'Услуга', 'service_amount': 'Выручка', 'revenue_percentage': 'Доля от общей выручки'},\n",
    "                 size_max=90, color='revenue_percentage', color_continuous_scale='Viridis')  # Здесь вы можете настроить размер кругов и цвета\n",
    "\n",
    "# Добавление подписей значений долей\n",
    "for i, row in top_services_data.iterrows():\n",
    "    fig.add_annotation(x=row['service_name'], y=row['service_amount'],\n",
    "                       text=f'{row[\"revenue_percentage\"]*100:.2f}%', showarrow=False, font=dict(size=10, color='white'))\n",
    "\n",
    "\n",
    "fig.update_traces(textfont=dict(size=8, color='rgba(0,0,0,0)'))\n",
    "\n",
    "fig.show()\n"
   ]
  },
  {
   "cell_type": "markdown",
   "metadata": {
    "id": "CATlYe6Xl6E4"
   },
   "source": [
    "## Анализ количества визитов."
   ]
  },
  {
   "cell_type": "code",
   "execution_count": null,
   "metadata": {
    "ExecuteTime": {
     "end_time": "2023-11-11T12:24:41.615834Z",
     "start_time": "2023-11-11T12:24:41.607648Z"
    },
    "colab": {
     "base_uri": "https://localhost:8080/",
     "height": 424
    },
    "id": "vJ6v7CGMUtVL",
    "outputId": "61a31e7d-5598-458e-e8c4-9acc954827d7"
   },
   "outputs": [],
   "source": [
    "# Сгруппируйте данные по застрахованным пациентам и датам, подсчитав количество визитов\n",
    "visits_count = df.groupby(['insured']).size().reset_index()\n",
    "\n",
    "# Выведите результат\n",
    "print(visits_count)"
   ]
  },
  {
   "cell_type": "code",
   "execution_count": null,
   "metadata": {
    "ExecuteTime": {
     "end_time": "2023-11-11T12:24:41.953746Z",
     "start_time": "2023-11-11T12:24:41.632830Z"
    },
    "colab": {
     "base_uri": "https://localhost:8080/",
     "height": 573
    },
    "id": "JQr4wfipV-v3",
    "outputId": "f97a9d64-3fba-406c-8d68-9bd977400526"
   },
   "outputs": [],
   "source": [
    "import matplotlib.pyplot as plt\n",
    "\n",
    "# Предположим, что вы хотите изменить диапазон оси x от 0 до 100\n",
    "new_x_range = (0, 100)\n",
    "\n",
    "# Постройте гистограмму распределения количества визитов\n",
    "plt.figure(figsize=(10, 6))\n",
    "plt.hist(visits_count[0], bins=40, color='skyblue')\n",
    "plt.xlabel('Количество визитов')\n",
    "plt.ylabel('Частота')\n",
    "plt.title('Распределение количества визитов на клиента')\n",
    "plt.grid(True)\n",
    "\n",
    "# Установите новый диапазон на оси x\n",
    "plt.xlim(new_x_range)\n",
    "\n",
    "plt.show()\n"
   ]
  },
  {
   "cell_type": "code",
   "execution_count": null,
   "metadata": {
    "ExecuteTime": {
     "end_time": "2023-11-11T12:24:41.963946Z",
     "start_time": "2023-11-11T12:24:41.955744Z"
    },
    "colab": {
     "base_uri": "https://localhost:8080/"
    },
    "id": "-4Pwhf5Xo2Pa",
    "outputId": "98b0ca6a-b374-4c8f-e423-1123ce60bc14"
   },
   "outputs": [],
   "source": [
    "# Сгруппируйте данные по застрахованным пациентам и датам, подсчитав количество визитов\n",
    "visits_count_2021 = df_2021.groupby(['insured']).size().reset_index()\n",
    "\n",
    "# Выведите результат\n",
    "print(visits_count_2021)"
   ]
  },
  {
   "cell_type": "code",
   "execution_count": null,
   "metadata": {
    "ExecuteTime": {
     "end_time": "2023-11-11T12:24:42.329383Z",
     "start_time": "2023-11-11T12:24:41.965944Z"
    },
    "colab": {
     "base_uri": "https://localhost:8080/",
     "height": 573
    },
    "id": "t4Y9V_bspDNm",
    "outputId": "0422ee94-2cac-46ff-c97c-f82499c02694"
   },
   "outputs": [],
   "source": [
    "# Постройте гистограмму распределения количества визитов\n",
    "plt.figure(figsize=(10, 6))\n",
    "plt.hist(visits_count_2021[0], bins=40, color='skyblue')\n",
    "plt.xlabel('Количество визитов')\n",
    "plt.ylabel('Частота')\n",
    "plt.title('Распределение количества визитов на клиента 2021')\n",
    "plt.grid(True)\n",
    "\n",
    "plt.xlim(0, 80)\n",
    "plt.show()"
   ]
  },
  {
   "cell_type": "code",
   "execution_count": null,
   "metadata": {
    "ExecuteTime": {
     "end_time": "2023-11-11T12:24:42.342246Z",
     "start_time": "2023-11-11T12:24:42.331384Z"
    },
    "colab": {
     "base_uri": "https://localhost:8080/"
    },
    "id": "zw7J2dkRpDc6",
    "outputId": "05139d97-6f73-44a7-97af-9147ad1aab05"
   },
   "outputs": [],
   "source": [
    "# Сгруппируйте данные по застрахованным пациентам и датам, подсчитав количество визитов\n",
    "visits_count_2022 = df_2022.groupby(['insured']).size().reset_index()\n",
    "\n",
    "# Выведите результат\n",
    "print(visits_count_2022)"
   ]
  },
  {
   "cell_type": "code",
   "execution_count": null,
   "metadata": {
    "ExecuteTime": {
     "end_time": "2023-11-11T12:24:42.748222Z",
     "start_time": "2023-11-11T12:24:42.345242Z"
    },
    "colab": {
     "base_uri": "https://localhost:8080/",
     "height": 573
    },
    "id": "p6Scgde5peR1",
    "outputId": "87d8ae11-acf2-4b72-b6cd-30f09cc4d67b"
   },
   "outputs": [],
   "source": [
    "# Постройте гистограмму распределения количества визитов\n",
    "plt.figure(figsize=(10, 6))\n",
    "plt.hist(visits_count_2022[0], bins=40, color='skyblue')\n",
    "plt.xlabel('Количество визитов')\n",
    "plt.ylabel('Частота')\n",
    "plt.title('Распределение количества визитов на клиента 2022')\n",
    "plt.grid(True)\n",
    "\n",
    "plt.xlim(0, 80)\n",
    "plt.show()"
   ]
  },
  {
   "cell_type": "code",
   "execution_count": null,
   "metadata": {
    "ExecuteTime": {
     "end_time": "2023-11-11T12:24:43.131947Z",
     "start_time": "2023-11-11T12:24:42.751218Z"
    },
    "colab": {
     "base_uri": "https://localhost:8080/",
     "height": 573
    },
    "id": "AUxxZZDypwrl",
    "outputId": "918e163d-7b75-46df-c394-cd8c419a9de6"
   },
   "outputs": [],
   "source": [
    "import matplotlib.pyplot as plt\n",
    "\n",
    "# Создайте фигуру и оси для графика\n",
    "plt.figure(figsize=(10, 6))\n",
    "\n",
    "# Постройте гистограмму для 2021 года\n",
    "plt.hist(visits_count_2021[0], bins=40, color='skyblue', alpha=0.5, label='2021')\n",
    "# Постройте гистограмму для 2022 года\n",
    "plt.hist(visits_count_2022[0], bins=40, color='lightcoral', alpha=0.5, label='2022')\n",
    "\n",
    "# Добавьте подписи осей и заголовок\n",
    "plt.xlabel('Количество визитов')\n",
    "plt.ylabel('Частота')\n",
    "plt.title('Распределение количества визитов на клиента')\n",
    "\n",
    "# Включите сетку\n",
    "plt.grid(True)\n",
    "\n",
    "# Выбор диапазона значение на оси x\n",
    "plt.xlim(0, 80)\n",
    "# Добавьте легенду\n",
    "plt.legend()\n",
    "\n",
    "# Покажите график\n",
    "plt.show()\n"
   ]
  },
  {
   "cell_type": "markdown",
   "metadata": {
    "id": "SYzMFjx2wrOo"
   },
   "source": [
    "# ВЫВОДЫ"
   ]
  },
  {
   "cell_type": "markdown",
   "metadata": {
    "id": "YC1wnY4_wt9D"
   },
   "source": [
    "Проект: Анализ изменения цены лечения в медицинской клинике\n",
    "\n",
    "**Описание проекта:**\n",
    "Провел анализ изменения цен в медицинской клинике за 2022 год относительно 2021 года.\n",
    "\n",
    "**Цель проекта:**\n",
    "Определить ключевые факторы, влияющие на изменение цены лечения.\n",
    "\n",
    "**Задачи:**\n",
    "1. Сформировать гипотезы.\n",
    "2. Провести исследовательский анализ данных.\n",
    "3. Сделать выводы по гипотезам.\n",
    "4. Написать общий вывод.\n",
    "\n",
    "Прежде чем начать анализ данных, предположил, что стоимость лечения возросла в 2022 году.\n",
    "\n",
    "**Выдвинутые гипотезы:**\n",
    "1. Стоимость лечения увеличилась из-за общего уровня инфляции в стране в 2022 году. (гипотеза\n",
    "2. Увеличение среднего возраста клиентов привело к росту стоимости лечения.\n",
    "3. Влияние роста курса доллара на повышение стоимости лечения.\n",
    "\n",
    "**Выводы по первой гипотезе - не отвергается:**\n",
    "Средний чек в 2022 году составил 1195 рублей, что на 4.9% больше, чем в 2021 году (1139 рублей). Средняя стоимость услуги выросла на 5.37%, что оказалось ниже уровня инфляции (11.94%). Таким образом, стоимость услуг в 2022 году стала выше, но оставалась более доступной для клиентов.\n",
    "\n",
    "**Выводы по второй гипотезе - отвергается:**\n",
    "График и расчет корреляции не выявили взаимосвязи между возрастом и стоимостью услуг. Следовательно, гипотеза о влиянии возраста клиентов на стоимость лечения отвергнута.\n",
    "\n",
    "**Выводы по третьей гипотезе - отвергается.:**\n",
    "Корреляция между средней стоимостью услуг и курсом доллара была -0.438, указывая на обратную зависимость. Это указывает на то, что при увеличении курса доллара средняя стоимость услуг снижается. Вывод: повышение курса доллара коррелирует с уменьшением стоимости медицинских услуг.\n",
    "\n",
    "**Общий вывод:**\n",
    "Рост стоимости услуг в 2022 году объясняется не только инфляцией, но и другими факторами. Влияние возраста клиентов на стоимость услуг не подтверждено, в то время как уменьшение стоимости услуг при росте курса доллара представляет собой интересную тенденцию. Однако стоит помнить, что корреляция не всегда свидетельствует о причинно-следственной связи, и другие факторы могут также влиять на стоимость лечения."
   ]
  }
 ],
 "metadata": {
  "colab": {
   "provenance": [],
   "toc_visible": true
  },
  "hide_input": false,
  "kernelspec": {
   "display_name": "Python 3 (ipykernel)",
   "language": "python",
   "name": "python3"
  },
  "language_info": {
   "codemirror_mode": {
    "name": "ipython",
    "version": 3
   },
   "file_extension": ".py",
   "mimetype": "text/x-python",
   "name": "python",
   "nbconvert_exporter": "python",
   "pygments_lexer": "ipython3",
   "version": "3.11.4"
  },
  "toc": {
   "base_numbering": 1,
   "nav_menu": {},
   "number_sections": true,
   "sideBar": true,
   "skip_h1_title": false,
   "title_cell": "Table of Contents",
   "title_sidebar": "Contents",
   "toc_cell": false,
   "toc_position": {
    "height": "calc(100% - 180px)",
    "left": "10px",
    "top": "150px",
    "width": "303.542px"
   },
   "toc_section_display": true,
   "toc_window_display": true
  },
  "varInspector": {
   "cols": {
    "lenName": 16,
    "lenType": 16,
    "lenVar": 40
   },
   "kernels_config": {
    "python": {
     "delete_cmd_postfix": "",
     "delete_cmd_prefix": "del ",
     "library": "var_list.py",
     "varRefreshCmd": "print(var_dic_list())"
    },
    "r": {
     "delete_cmd_postfix": ") ",
     "delete_cmd_prefix": "rm(",
     "library": "var_list.r",
     "varRefreshCmd": "cat(var_dic_list()) "
    }
   },
   "types_to_exclude": [
    "module",
    "function",
    "builtin_function_or_method",
    "instance",
    "_Feature"
   ],
   "window_display": false
  }
 },
 "nbformat": 4,
 "nbformat_minor": 1
}
